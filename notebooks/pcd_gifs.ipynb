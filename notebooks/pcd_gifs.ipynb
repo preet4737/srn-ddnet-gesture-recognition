{
 "cells": [
  {
   "cell_type": "code",
   "execution_count": 1,
   "id": "atlantic-breeding",
   "metadata": {},
   "outputs": [],
   "source": [
    "DATASET_DIR = './dataset/'"
   ]
  },
  {
   "cell_type": "markdown",
   "id": "printable-halifax",
   "metadata": {},
   "source": [
    "## Prelude"
   ]
  },
  {
   "cell_type": "code",
   "execution_count": 2,
   "id": "express-missouri",
   "metadata": {},
   "outputs": [],
   "source": [
    "from tqdm import tqdm\n",
    "import open3d as o3d\n",
    "import numpy as np\n",
    "import PIL\n",
    "import cv2\n",
    "import pathlib\n",
    "import matplotlib.pyplot as plt"
   ]
  },
  {
   "cell_type": "markdown",
   "id": "intensive-scheduling",
   "metadata": {},
   "source": [
    "## Utilities"
   ]
  },
  {
   "cell_type": "code",
   "execution_count": 3,
   "id": "protective-carter",
   "metadata": {},
   "outputs": [],
   "source": [
    "from functools import reduce\n",
    "\n",
    "flat_map = lambda f, xs: reduce(lambda a, b: a + b, map(f, xs))"
   ]
  },
  {
   "cell_type": "code",
   "execution_count": 4,
   "id": "killing-electric",
   "metadata": {},
   "outputs": [],
   "source": [
    "get_dirs = lambda p: [d for d in p.iterdir() if d.is_dir()]\n",
    "\n",
    "def map_dataset(f: callable, dataset_dir: str):\n",
    "    ds = pathlib.Path(dataset_dir)\n",
    "    \n",
    "    gestures = get_dirs(ds)\n",
    "    fingers = flat_map(get_dirs, gestures)\n",
    "    subjects = flat_map(get_dirs, fingers)\n",
    "    essais = flat_map(get_dirs, subjects)\n",
    "    \n",
    "    for es in tqdm(essais): f(es)"
   ]
  },
  {
   "cell_type": "code",
   "execution_count": 5,
   "id": "gross-philip",
   "metadata": {},
   "outputs": [],
   "source": [
    "png_iter = lambda p: [f for f in p.iterdir() if f.suffix == '.png']\n",
    "png_sorter = lambda pngs: sorted(pngs, key=lambda f: int(f.name.split('_')[0]))"
   ]
  },
  {
   "cell_type": "markdown",
   "id": "instant-contributor",
   "metadata": {},
   "source": [
    "## PCD Generation"
   ]
  },
  {
   "cell_type": "code",
   "execution_count": 6,
   "id": "victorian-sunday",
   "metadata": {},
   "outputs": [],
   "source": [
    "def to_pcd(fn: str):\n",
    "    depth_raw = o3d.io.read_image(fn)\n",
    "    pcd = o3d.geometry.PointCloud.create_from_depth_image(\n",
    "        depth_raw,\n",
    "        o3d.camera.PinholeCameraIntrinsic(\n",
    "            o3d.camera.PinholeCameraIntrinsicParameters.PrimeSenseDefault\n",
    "        )\n",
    "    )\n",
    "    pcd.transform([[1, 0, 0, 0], [0, -1, 0, 0], [0, 0, -1, 0], [0, 0, 0, 1]])\n",
    "    return pcd"
   ]
  },
  {
   "cell_type": "code",
   "execution_count": 7,
   "id": "muslim-tamil",
   "metadata": {},
   "outputs": [],
   "source": [
    "def pcd_map_essai(essai_dir: pathlib.Path):\n",
    "    pngs = png_iter(essai_dir)\n",
    "    for f in pngs:\n",
    "        pcd = to_pcd(str(f))\n",
    "        ofname = str( f.parent / (f.name + '.pcd') )\n",
    "        o3d.io.write_point_cloud(ofname, pcd, print_progress=True)\n",
    "        del pcd"
   ]
  },
  {
   "cell_type": "code",
   "execution_count": 8,
   "id": "elect-france",
   "metadata": {},
   "outputs": [],
   "source": [
    "run_pcd_mapper = lambda ds: map_dataset(pcd_map_essai, ds)"
   ]
  },
  {
   "cell_type": "markdown",
   "id": "obvious-portrait",
   "metadata": {},
   "source": [
    "## GIF Creation"
   ]
  },
  {
   "cell_type": "code",
   "execution_count": 10,
   "id": "graduate-checklist",
   "metadata": {},
   "outputs": [],
   "source": [
    "def dnorm(x):\n",
    "    x = (x - x.min()) / (x.max() - x.min())\n",
    "    x = x * 255.\n",
    "    return x"
   ]
  },
  {
   "cell_type": "code",
   "execution_count": 9,
   "id": "running-refund",
   "metadata": {},
   "outputs": [],
   "source": [
    "def gif_map_essai(essai_dir: pathlib.Path):\n",
    "    pngs = png_iter(essai_dir)\n",
    "    pngs = png_sorter(pngs)\n",
    "    nls = list()\n",
    "    for f in pngs:\n",
    "        x = cv2.imread(str(f), cv2.IMREAD_ANYDEPTH)\n",
    "        x = dnorm(x)\n",
    "        x = np.stack((x,)*3, axis=-1)\n",
    "        x = x.astype('uint8')\n",
    "        x = PIL.Image.fromarray(x)\n",
    "        nls.append(x)\n",
    "    \n",
    "    name = str(essai_dir / 'action.gif')\n",
    "    duration = 1000/30\n",
    "    nls[0].save(\n",
    "        name,\n",
    "        append_images=nls[1:],\n",
    "        save_all=True,\n",
    "        duration=duration,\n",
    "        loop=0\n",
    "    )"
   ]
  },
  {
   "cell_type": "code",
   "execution_count": 11,
   "id": "valued-association",
   "metadata": {},
   "outputs": [],
   "source": [
    "run_gif_mapper = lambda ds: map_dataset(gif_map_essai, ds)"
   ]
  },
  {
   "cell_type": "markdown",
   "id": "diagnostic-broad",
   "metadata": {},
   "source": [
    "## Run preprocessing"
   ]
  },
  {
   "cell_type": "code",
   "execution_count": 12,
   "id": "delayed-still",
   "metadata": {},
   "outputs": [
    {
     "name": "stderr",
     "output_type": "stream",
     "text": [
      "100%|██████████| 9/9 [00:10<00:00,  1.22s/it]\n"
     ]
    }
   ],
   "source": [
    "run_pcd_mapper(DATASET_DIR)"
   ]
  },
  {
   "cell_type": "code",
   "execution_count": 13,
   "id": "present-ideal",
   "metadata": {},
   "outputs": [
    {
     "name": "stderr",
     "output_type": "stream",
     "text": [
      "100%|██████████| 9/9 [00:14<00:00,  1.60s/it]\n"
     ]
    }
   ],
   "source": [
    "run_gif_mapper(DATASET_DIR)"
   ]
  }
 ],
 "metadata": {
  "kernelspec": {
   "display_name": "Python 3",
   "language": "python",
   "name": "python3"
  },
  "language_info": {
   "codemirror_mode": {
    "name": "ipython",
    "version": 3
   },
   "file_extension": ".py",
   "mimetype": "text/x-python",
   "name": "python",
   "nbconvert_exporter": "python",
   "pygments_lexer": "ipython3",
   "version": "3.8.5"
  }
 },
 "nbformat": 4,
 "nbformat_minor": 5
}
