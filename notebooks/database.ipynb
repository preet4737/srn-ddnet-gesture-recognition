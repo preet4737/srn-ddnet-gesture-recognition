{
 "cells": [
  {
   "cell_type": "code",
   "execution_count": 8,
   "metadata": {},
   "outputs": [],
   "source": [
    "DATASET_DIR = '/Volumes/Manan/HandGestureDataset_SHREC2017'\n",
    "INDEX_FILE = '../index.pkl'"
   ]
  },
  {
   "cell_type": "markdown",
   "metadata": {},
   "source": [
    "## Prelude"
   ]
  },
  {
   "cell_type": "code",
   "execution_count": 9,
   "metadata": {},
   "outputs": [],
   "source": [
    "from typing import Tuple\n",
    "from pathlib import Path\n",
    "import pickle"
   ]
  },
  {
   "cell_type": "markdown",
   "metadata": {},
   "source": [
    "## Walkers"
   ]
  },
  {
   "cell_type": "code",
   "execution_count": 10,
   "metadata": {},
   "outputs": [],
   "source": [
    "def getpcds(d: Path) -> list:\n",
    "    files = d.iterdir()\n",
    "    files = filter(lambda f: f.suffix == '.pcd', files)\n",
    "    files = sorted(files, key=lambda f: int(f.name.split('_')[0]))\n",
    "    files = map(lambda f: f.parts[-5:], files)\n",
    "    files = map(lambda ps: '/' + '/'.join(ps), files)\n",
    "    files = list(files)\n",
    "    return files"
   ]
  },
  {
   "cell_type": "code",
   "execution_count": 11,
   "metadata": {},
   "outputs": [],
   "source": [
    "getdirs = lambda d: filter(lambda e: e.is_dir(), d.iterdir())"
   ]
  },
  {
   "cell_type": "code",
   "execution_count": 12,
   "metadata": {},
   "outputs": [],
   "source": [
    "def walk_dataset(p: str) -> dict:\n",
    "    p = Path(p)\n",
    "    D = dict()\n",
    "    \n",
    "    # gestures\n",
    "    for g in getdirs(p):\n",
    "        D[g.name] = dict()\n",
    "        essais = list()\n",
    "        \n",
    "        # fingers\n",
    "        for f in getdirs(g):\n",
    "            D[g.name][f.name] = dict()\n",
    "            \n",
    "            # subjects\n",
    "            for s in getdirs(f):\n",
    "                D[g.name][f.name][s.name] = dict()\n",
    "                \n",
    "                # essais\n",
    "                for e in getdirs(s):\n",
    "                    pcds = getpcds(e)\n",
    "                    D[g.name][f.name][s.name][e.name] = pcds\n",
    "                    essais.append('/' + '/'.join(e.parts[-4:]))\n",
    "                # !essais\n",
    "            # !subjects\n",
    "        #!fingers\n",
    "        \n",
    "        D[g.name]['essais'] = essais\n",
    "    #!gestures\n",
    "    \n",
    "    return D"
   ]
  },
  {
   "cell_type": "code",
   "execution_count": 13,
   "metadata": {},
   "outputs": [],
   "source": [
    "D = walk_dataset(DATASET_DIR)"
   ]
  },
  {
   "cell_type": "code",
   "execution_count": 14,
   "metadata": {},
   "outputs": [],
   "source": [
    "with open(INDEX_FILE, 'wb') as f:\n",
    "    pickle.dump(D, f)"
   ]
  },
  {
   "cell_type": "code",
   "execution_count": null,
   "metadata": {},
   "outputs": [],
   "source": []
  }
 ],
 "metadata": {
  "kernelspec": {
   "display_name": "Python 3",
   "language": "python",
   "name": "python3"
  },
  "language_info": {
   "codemirror_mode": {
    "name": "ipython",
    "version": 3
   },
   "file_extension": ".py",
   "mimetype": "text/x-python",
   "name": "python",
   "nbconvert_exporter": "python",
   "pygments_lexer": "ipython3",
   "version": "3.7.6"
  }
 },
 "nbformat": 4,
 "nbformat_minor": 5
}
