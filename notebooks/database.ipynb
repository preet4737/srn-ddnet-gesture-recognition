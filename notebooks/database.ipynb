{
 "cells": [
  {
   "cell_type": "code",
   "execution_count": 1,
   "metadata": {},
   "outputs": [],
   "source": [
    "INDEX_FILE = '../index.json'"
   ]
  },
  {
   "cell_type": "code",
   "execution_count": 2,
   "metadata": {},
   "outputs": [],
   "source": [
    "DATASET_DIR = '/Volumes/Manan/HandGestureDataset_SHREC2017'"
   ]
  },
  {
   "cell_type": "markdown",
   "metadata": {},
   "source": [
    "## Prelude"
   ]
  },
  {
   "cell_type": "code",
   "execution_count": 3,
   "metadata": {},
   "outputs": [],
   "source": [
    "from typing import Tuple\n",
    "from pathlib import Path\n",
    "from configparser import ConfigParser\n",
    "import json"
   ]
  },
  {
   "cell_type": "code",
   "execution_count": 4,
   "metadata": {},
   "outputs": [],
   "source": [
    "labels= [\n",
    "    None,\n",
    "    \"Grab\",\n",
    "    \"Tap\",\n",
    "    \"Expand\",\n",
    "    \"Pinch\",\n",
    "    \"Rotation CW\",\n",
    "    \"Rotation CCW\",\n",
    "    \"Swipe Right\",\n",
    "    \"Swipe Left\",\n",
    "    \"Swipe Up\",\n",
    "    \"Swipe Down\",\n",
    "    \"Swipe X\",\n",
    "    \"Swipe V\",\n",
    "    \"Swipe +\",\n",
    "    \"Shake\"\n",
    "]"
   ]
  },
  {
   "cell_type": "markdown",
   "metadata": {},
   "source": [
    "## Walkers"
   ]
  },
  {
   "cell_type": "code",
   "execution_count": 5,
   "metadata": {},
   "outputs": [],
   "source": [
    "def getpcds(d: Path) -> list:\n",
    "    files = d.iterdir()\n",
    "    files = filter(lambda f: f.suffix == '.pcd', files)\n",
    "    files = sorted(files, key=lambda f: int(f.name.split('_')[0]))\n",
    "    files = map(lambda f: f.parts[-5:], files)\n",
    "    files = map(lambda ps: '/data/' + '/'.join(ps), files)\n",
    "    files = list(files)\n",
    "    return files"
   ]
  },
  {
   "cell_type": "code",
   "execution_count": 6,
   "metadata": {},
   "outputs": [],
   "source": [
    "getdirs = lambda d: filter(lambda e: e.is_dir(), d.iterdir())"
   ]
  },
  {
   "cell_type": "code",
   "execution_count": 7,
   "metadata": {},
   "outputs": [],
   "source": [
    "def walk_dataset(p: str) -> dict:\n",
    "    p = Path(p)\n",
    "    D = dict()\n",
    "    \n",
    "    # gestures\n",
    "    for g in getdirs(p):\n",
    "        gid = int(g.name.split('_').pop(1))\n",
    "        essais = list()\n",
    "        D[g.name] = {\n",
    "            \"id\": gid,\n",
    "            \"label\": labels[gid],\n",
    "            \"essais\": essais\n",
    "        }\n",
    "        \n",
    "        # fingers\n",
    "        for f in getdirs(g):\n",
    "            D[g.name][f.name] = dict()\n",
    "            \n",
    "            # subjects\n",
    "            for s in getdirs(f):\n",
    "                D[g.name][f.name][s.name] = dict()\n",
    "                \n",
    "                # essais\n",
    "                for e in getdirs(s):\n",
    "                    pcds = getpcds(e)\n",
    "                    D[g.name][f.name][s.name][e.name] = pcds\n",
    "                    essais.append('/data/' + '/'.join(e.parts[-4:]))\n",
    "                # !essais\n",
    "            # !subjects\n",
    "        #!fingers\n",
    "    #!gestures\n",
    "    \n",
    "    \n",
    "    return D"
   ]
  },
  {
   "cell_type": "markdown",
   "metadata": {},
   "source": [
    "## Configuration and Run"
   ]
  },
  {
   "cell_type": "code",
   "execution_count": 8,
   "metadata": {},
   "outputs": [],
   "source": [
    "x = walk_dataset(DATASET_DIR)"
   ]
  },
  {
   "cell_type": "code",
   "execution_count": 9,
   "metadata": {},
   "outputs": [],
   "source": [
    "with open(INDEX_FILE, 'w') as f:\n",
    "    json.dump(x, f)"
   ]
  },
  {
   "cell_type": "code",
   "execution_count": null,
   "metadata": {},
   "outputs": [],
   "source": []
  }
 ],
 "metadata": {
  "kernelspec": {
   "display_name": "Python 3",
   "language": "python",
   "name": "python3"
  },
  "language_info": {
   "codemirror_mode": {
    "name": "ipython",
    "version": 3
   },
   "file_extension": ".py",
   "mimetype": "text/x-python",
   "name": "python",
   "nbconvert_exporter": "python",
   "pygments_lexer": "ipython3",
   "version": "3.7.6"
  }
 },
 "nbformat": 4,
 "nbformat_minor": 5
}
