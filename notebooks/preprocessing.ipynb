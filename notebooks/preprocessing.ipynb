{
 "cells": [
  {
   "cell_type": "markdown",
   "metadata": {
    "id": "IOh3o90oCN97"
   },
   "source": [
    "## Dataset"
   ]
  },
  {
   "cell_type": "code",
   "execution_count": null,
   "metadata": {
    "colab": {
     "base_uri": "https://localhost:8080/"
    },
    "id": "DsgdYltvzZUS",
    "outputId": "078d46e2-839c-487b-e883-7087c0e3960c"
   },
   "outputs": [
    {
     "name": "stdout",
     "output_type": "stream",
     "text": [
      "Downloading...\n",
      "From: https://drive.google.com/uc?id=1lEKmgiMVcEIOyB4ABItfjZ4lwrPVsNX6\n",
      "To: /content/HandGestureDataset_SHREC2017.zip\n",
      "87.8MB [00:00, 142MB/s] \n"
     ]
    }
   ],
   "source": [
    "!gdown --id 1lEKmgiMVcEIOyB4ABItfjZ4lwrPVsNX6"
   ]
  },
  {
   "cell_type": "code",
   "execution_count": null,
   "metadata": {
    "id": "9sHrp0XBCdEw"
   },
   "outputs": [],
   "source": [
    "!unzip /content/HandGestureDataset_SHREC2017.zip"
   ]
  },
  {
   "cell_type": "code",
   "execution_count": null,
   "metadata": {
    "id": "48o4o7sBClSX"
   },
   "outputs": [],
   "source": [
    "!rm -rf /content/HandGestureDataset_SHREC2017.zip /content/sample_data"
   ]
  },
  {
   "cell_type": "markdown",
   "metadata": {
    "id": "IOh3o90oCN97"
   },
   "source": [
    "## Configure"
   ]
  },
  {
   "cell_type": "code",
   "execution_count": 1,
   "metadata": {},
   "outputs": [],
   "source": [
    "from matplotlib import pyplot as plt\n",
    "from scipy.signal import medfilt\n",
    "from tqdm import tqdm\n",
    "import numpy as np\n",
    "import pickle"
   ]
  },
  {
   "cell_type": "code",
   "execution_count": 2,
   "metadata": {},
   "outputs": [],
   "source": [
    "train_list = np.loadtxt('train_gestures.txt').astype('int16')\n",
    "test_list = np.loadtxt('test_gestures.txt').astype('int16')"
   ]
  },
  {
   "cell_type": "markdown",
   "metadata": {
    "id": "IOh3o90oCN97"
   },
   "source": [
    "## Preprocess"
   ]
  },
  {
   "cell_type": "code",
   "execution_count": 3,
   "metadata": {
    "scrolled": true
   },
   "outputs": [
    {
     "name": "stderr",
     "output_type": "stream",
     "text": [
      "100%|██████████| 1960/1960 [00:12<00:00, 153.44it/s]\n"
     ]
    }
   ],
   "source": [
    "Train = {}\n",
    "Train['pose'] = []\n",
    "Train['coarse_label'] = []\n",
    "Train['fine_label'] = []\n",
    "\n",
    "for i in tqdm(range(len(train_list))):\n",
    "    idx_gesture = train_list[i][0]\n",
    "    idx_finger = train_list[i][1]\n",
    "    idx_subject = train_list[i][2]\n",
    "    idx_essai = train_list[i][3]\n",
    "    coarse_label = train_list[i][4]\n",
    "    fine_label = train_list[i][5]\n",
    "    \n",
    "    skeleton_path = 'gesture_' + str(idx_gesture) + '/finger_' \\\n",
    "                + str(idx_finger) + '/subject_' + str(idx_subject) + '/essai_' + str(idx_essai)+'/'\n",
    "        \n",
    "    p = np.loadtxt(skeleton_path + 'skeletons_world.txt').astype('float32')\n",
    "    t = np.delete(p, [3,4,5], 1)\n",
    "\n",
    "    for i in range(t.shape[0]):\n",
    "        shift = t[i][2]\n",
    "        for j in range(2, t.shape[1], 3):\n",
    "            t[i][j] = t[i][j] - shift\n",
    "\n",
    "    for j in range(t.shape[1]):\n",
    "        t[:, j] = medfilt(t[:, j])\n",
    "        \n",
    "    Train['pose'].append(t)\n",
    "    Train['coarse_label'].append(coarse_label)\n",
    "    Train['fine_label'].append(fine_label)\n",
    "    "
   ]
  },
  {
   "cell_type": "code",
   "execution_count": 4,
   "metadata": {},
   "outputs": [],
   "source": [
    "pickle.dump(Train, open(\"./data/processed/train.pkl\", \"wb\"))"
   ]
  },
  {
   "cell_type": "code",
   "execution_count": 5,
   "metadata": {},
   "outputs": [
    {
     "name": "stderr",
     "output_type": "stream",
     "text": [
      "100%|██████████| 840/840 [00:05<00:00, 149.35it/s]\n"
     ]
    }
   ],
   "source": [
    "Test = {}\n",
    "Test['pose'] = []\n",
    "Test['coarse_label'] = []\n",
    "Test['fine_label'] = []\n",
    "\n",
    "for i in tqdm(range(len(test_list))):\n",
    "    idx_gesture = test_list[i][0]\n",
    "    idx_finger = test_list[i][1]\n",
    "    idx_subject = test_list[i][2]\n",
    "    idx_essai = test_list[i][3]\n",
    "    coarse_label = test_list[i][4]\n",
    "    fine_label = test_list[i][5]\n",
    "    \n",
    "    skeleton_path = 'gesture_' + str(idx_gesture) + '/finger_' \\\n",
    "                + str(idx_finger) + '/subject_' + str(idx_subject) + '/essai_' + str(idx_essai)+'/'\n",
    "        \n",
    "    p = np.loadtxt(skeleton_path+'skeletons_world.txt').astype('float32')\n",
    "    t = np.delete(p, [3,4,5], 1)\n",
    "\n",
    "    for i in range(t.shape[0]):\n",
    "        shift = t[i][2]\n",
    "        for j in range(2, t.shape[1], 3):\n",
    "            t[i][j] = t[i][j] - shift\n",
    "\n",
    "    for j in range(t.shape[1]):\n",
    "        t[:, j] = medfilt(t[:, j])\n",
    "        \n",
    "    Test['pose'].append(t)\n",
    "    Test['coarse_label'].append(coarse_label)\n",
    "    Test['fine_label'].append(fine_label)"
   ]
  },
  {
   "cell_type": "code",
   "execution_count": 6,
   "metadata": {},
   "outputs": [],
   "source": [
    "pickle.dump(Test, open(\"./data/processed/test.pkl\", \"wb\"))"
   ]
  }
 ],
 "metadata": {
  "kernelspec": {
   "display_name": "Python 3",
   "language": "python",
   "name": "python3"
  },
  "language_info": {
   "codemirror_mode": {
    "name": "ipython",
    "version": 3
   },
   "file_extension": ".py",
   "mimetype": "text/x-python",
   "name": "python",
   "nbconvert_exporter": "python",
   "pygments_lexer": "ipython3",
   "version": "3.8.3"
  }
 },
 "nbformat": 4,
 "nbformat_minor": 4
}
