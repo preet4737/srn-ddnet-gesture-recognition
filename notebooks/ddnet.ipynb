{
 "cells": [
  {
   "cell_type": "markdown",
   "metadata": {
    "id": "M2p8ijH90_ak"
   },
   "source": [
    "# DDNet\n",
    "\n",
    "This notebook contains the model definition, implementation and training for DDNet hand pose to gesture recognition model\n",
    "\n",
    "Official: https://github.com/fandulu/DD-Net"
   ]
  },
  {
   "cell_type": "markdown",
   "metadata": {
    "id": "Mdow9sKfDNYi"
   },
   "source": [
    "## Prologue"
   ]
  },
  {
   "cell_type": "code",
   "execution_count": null,
   "metadata": {
    "id": "LQR0x27FDPfZ"
   },
   "outputs": [],
   "source": [
    "from scipy.ndimage import interpolation as inter\n",
    "from dataclasses import dataclass\n",
    "from scipy.signal import medfilt\n",
    "from keras.layers import *\n",
    "from tqdm import tqdm\n",
    "import tensorflow as tf\n",
    "import pandas as pd\n",
    "import numpy as np\n",
    "import pickle\n",
    "import random\n",
    "import keras\n",
    "import cv2\n",
    "import os"
   ]
  },
  {
   "cell_type": "code",
   "execution_count": null,
   "metadata": {
    "id": "xSYcTymDb3_f"
   },
   "outputs": [],
   "source": [
    "random.seed(42069)"
   ]
  },
  {
   "cell_type": "markdown",
   "metadata": {
    "id": "lDeyKLirC6nU"
   },
   "source": [
    "## Configuration"
   ]
  },
  {
   "cell_type": "markdown",
   "metadata": {
    "id": "Hfv-3Rbmb3_g"
   },
   "source": [
    "`num_frames` - Number of frames to be analysed, represented as $K$ in paper. Different from batch size.\n",
    "\n",
    "`num_points` - Number of points in a frame, represented as $N$ in paper. DDnet uses 22 but we use 21.\n",
    "\n",
    "`dim_point` - Dimension of one point. We use 3D points $(x, y, z)$.\n",
    "\n",
    "`dim_jcd` - Dimension of JCD matrix after flattening. Value is given by $\\binom{N}{2}$\n",
    "\n",
    "`num_classes` - Number of classes to recognise. To be decided, but SHREC contains either 14 or 28 classes.\n",
    "\n",
    "`filters` - Configurable number of filters to use in $Conv$ layers.\n",
    "\n",
    "`dir_save` - Directory path to save model.\n",
    "\n",
    "`dir_data` - Directory path to cleaned data, from SHREC format to Mediapipe format."
   ]
  },
  {
   "cell_type": "code",
   "execution_count": null,
   "metadata": {
    "id": "j7ZJEBWRb3_h"
   },
   "outputs": [],
   "source": [
    "@dataclass\n",
    "class Config:\n",
    "    num_frames = 30\n",
    "    num_points = 21\n",
    "    dim_point = 3\n",
    "    dim_jcd = 210\n",
    "    num_classes = 28\n",
    "    num_filters = 16\n",
    "    dir_save = './model/'\n",
    "    dir_data = './data/'\n",
    "    \n",
    "C = Config()"
   ]
  },
  {
   "cell_type": "markdown",
   "metadata": {
    "id": "Q7PqeQDeb3_h"
   },
   "source": [
    "## Model"
   ]
  },
  {
   "cell_type": "markdown",
   "metadata": {
    "id": "Amd2C0f4b3_i"
   },
   "source": [
    "Reference: _Fan Yang, Sakriani Sakti, Yang Wu, & Satoshi Nakamura. (2020). Make Skeleton-based Action Recognition Model Smaller, Faster and Better._"
   ]
  },
  {
   "cell_type": "markdown",
   "metadata": {
    "id": "rMc1aUEgb3_j"
   },
   "source": [
    "#### Basic blocks"
   ]
  },
  {
   "cell_type": "code",
   "execution_count": null,
   "metadata": {
    "id": "qP-Qyd7Ob3_j"
   },
   "outputs": [],
   "source": [
    "def c1D(x: tf.Tensor, filters: int, kernel: int) -> tf.Tensor:\n",
    "    \"\"\" 1D Convolution for embeddings \"\"\"\n",
    "    x = Conv1D(filters, kernel_size=kernel, padding='same', use_bias=False)(x)\n",
    "    x = BatchNormalization()(x)\n",
    "    x = LeakyReLU(alpha=0.2)(x)\n",
    "    return x"
   ]
  },
  {
   "cell_type": "code",
   "execution_count": null,
   "metadata": {
    "id": "jMs_6In_b3_j"
   },
   "outputs": [],
   "source": [
    "def c2x1D(x: tf.Tensor, filters: int) -> tf.Tensor:\n",
    "    \"\"\" 2 x 1D Convolutions after concatenation \"\"\"\n",
    "    x = c1D(x, filters, 3)\n",
    "    x = c1D(x, filters, 3)\n",
    "    return x"
   ]
  },
  {
   "cell_type": "code",
   "execution_count": null,
   "metadata": {
    "id": "PQAqID-Wb3_k"
   },
   "outputs": [],
   "source": [
    "def d1D(x: tf.Tensor, filters: int) -> tf.Tensor:\n",
    "    \"\"\" FC layer \"\"\"\n",
    "    x = Dense(filters, use_bias=False)(x)\n",
    "    x = BatchNormalization()(x)\n",
    "    x = LeakyReLU(alpha=0.2)(x)\n",
    "    return x"
   ]
  },
  {
   "cell_type": "markdown",
   "metadata": {
    "id": "-6rhgVblb3_k"
   },
   "source": [
    "#### Fast and slow motion"
   ]
  },
  {
   "cell_type": "code",
   "execution_count": null,
   "metadata": {
    "id": "rJDPCdT0b3_l"
   },
   "outputs": [],
   "source": [
    "@tf.function\n",
    "def poses_diff(x: tf.Tensor) -> tf.Tensor:\n",
    "    \"\"\" Calculate difference between poses for a buffer \"\"\"\n",
    "    H, W = x.get_shape()[1], x.get_shape()[2]\n",
    "    x = tf.subtract(x[:, 1:, ...], x[:, :-1, ...])\n",
    "    x = tf.image.resize(x, size=(H, W, ))\n",
    "    return x\n",
    "\n",
    "class SlowMotion(Layer):\n",
    "    def __init__(self, num_frames: int):\n",
    "        super(SlowMotion, self).__init__()\n",
    "        self.num_frames = num_frames\n",
    "        \n",
    "    def get_config(self):\n",
    "        return {\"num_frames\": self.num_frames}\n",
    "    \n",
    "    def call(self, inputs):\n",
    "        M_diff_slow = poses_diff(inputs)\n",
    "        \n",
    "        ps = inputs.shape[2] * inputs.shape[3]\n",
    "        M_diff_slow = tf.reshape(M_diff_slow, (-1, self.num_frames, ps, ))\n",
    "        return M_diff_slow\n",
    "    \n",
    "class FastMotion(Layer):\n",
    "    def __init__(self, num_frames: int):\n",
    "        super(FastMotion, self).__init__()\n",
    "        self.num_frames = num_frames\n",
    "        \n",
    "    def get_config(self):\n",
    "        return {\"num_frames\": self.num_frames}\n",
    "    \n",
    "    def call(self, inputs):\n",
    "        M_fast = inputs[:, ::2, ...]\n",
    "        M_diff_fast = poses_diff(M_fast)\n",
    "        \n",
    "        ps = inputs.shape[2] * inputs.shape[3]\n",
    "        M_diff_fast = tf.reshape(M_diff_fast, (-1, self.num_frames // 2, ps, ) )\n",
    "        return M_diff_fast"
   ]
  },
  {
   "cell_type": "markdown",
   "metadata": {
    "id": "NmyK02gAb3_n"
   },
   "source": [
    "#### JCD Preprocessing"
   ]
  },
  {
   "cell_type": "code",
   "execution_count": null,
   "metadata": {
    "id": "26AkgomvNwfG"
   },
   "outputs": [],
   "source": [
    "class JCD(Layer):\n",
    "    def __init__(self, num_frames: int, dim_jcd: int):\n",
    "        super(JCD, self).__init__()\n",
    "        self.num_frames = num_frames\n",
    "        self.dim_jcd = dim_jcd\n",
    "        \n",
    "    def get_config(self):\n",
    "        return {\"num_frames\": self.num_frames, \"dim_jcd\": self.dim_jcd}\n",
    "        \n",
    "    @tf.function\n",
    "    def get_jcd(self, x: tf.Tensor) -> tf.Tensor:\n",
    "        n = tf.reduce_sum(tf.square(x), 1)\n",
    "        na = tf.reshape(n, [-1, 1])\n",
    "        nb = tf.reshape(n, [1, -1])\n",
    "        D = tf.sqrt(tf.maximum(na - 2*tf.matmul(x, x, False, True) + nb, 0.0))\n",
    "        return D\n",
    "\n",
    "    @tf.function\n",
    "    def jcd_flatten(self, D: tf.Tensor) -> tf.Tensor:\n",
    "        ones = tf.ones_like(D)\n",
    "        mask_a = tf.linalg.band_part(ones, 0, -1) # Upper triangular matrix of 0s and 1s\n",
    "        mask_b = tf.linalg.band_part(ones, 0, 0)  # Diagonal matrix of 0s and 1s\n",
    "        mask = tf.cast(mask_a - mask_b, dtype=tf.bool) # Make a bool mask\n",
    "        triu = tf.boolean_mask(D, mask)\n",
    "        return triu\n",
    "\n",
    "    @tf.function\n",
    "    def jcd_frames(self, P: tf.Tensor) -> tf.Tensor:\n",
    "        buf = tf.slice(P, [0, 0, 0], [self.num_frames, 21, 3])\n",
    "        D = tf.map_fn(self.get_jcd, buf)\n",
    "        J = tf.map_fn(self.jcd_flatten, D)\n",
    "        return J\n",
    "\n",
    "    def call(self, inputs):\n",
    "        J = tf.map_fn(self.jcd_frames, inputs)\n",
    "        J = tf.reshape(J, (-1, self.num_frames, self.dim_jcd, ))\n",
    "        return J"
   ]
  },
  {
   "cell_type": "markdown",
   "metadata": {
    "id": "EnPhagY3b3_p"
   },
   "source": [
    "#### Embedding blocks"
   ]
  },
  {
   "cell_type": "code",
   "execution_count": null,
   "metadata": {
    "id": "S4A9dXMBDH88"
   },
   "outputs": [],
   "source": [
    "def embed1(x: tf.Tensor, filters: int) -> tf.Tensor:\n",
    "    \"\"\" Embedding mapper for JCD and Slow motion \"\"\"\n",
    "    x = c1D(x, filters*2, 1)\n",
    "    x = SpatialDropout1D(0.1)(x)\n",
    "    x = c1D(x, filters, 3)\n",
    "    x = SpatialDropout1D(0.1)(x)\n",
    "    x = c1D(x, filters, 1)\n",
    "    x = MaxPooling1D(2)(x)\n",
    "    x = SpatialDropout1D(0.1)(x)\n",
    "    return x"
   ]
  },
  {
   "cell_type": "code",
   "execution_count": null,
   "metadata": {
    "id": "a3z7VVl6b3_p"
   },
   "outputs": [],
   "source": [
    "def embed2(x: tf.Tensor, filters: int) -> tf.Tensor:\n",
    "    \"\"\" Embedding mapper for Fast motion, since half the temporal length \"\"\"\n",
    "    x = c1D(x, filters*2, 1)\n",
    "    x = SpatialDropout1D(0.1)(x)\n",
    "    x = c1D(x, filters, 3) \n",
    "    x = SpatialDropout1D(0.1)(x)\n",
    "    x = c1D(x, filters, 1)\n",
    "    x = SpatialDropout1D(0.1)(x)\n",
    "    return x"
   ]
  },
  {
   "cell_type": "markdown",
   "metadata": {
    "id": "1_OYY12eb3_q"
   },
   "source": [
    "#### Full model"
   ]
  },
  {
   "cell_type": "code",
   "execution_count": null,
   "metadata": {
    "id": "JKDhXyt6b3_q"
   },
   "outputs": [],
   "source": [
    "def DDnet(C: Config) -> keras.Model:\n",
    "    \"\"\" Builds DDnet model for given configuration \"\"\"\n",
    "    \n",
    "    # Poses\n",
    "    P = Input(shape=(C.num_frames, C.num_points, C.dim_point, ))\n",
    "\n",
    "    # JCD\n",
    "    J = JCD(C.num_frames, C.dim_jcd)(P)\n",
    "    \n",
    "    # Pose Motion\n",
    "    M_fast = FastMotion(C.num_frames)(P)\n",
    "    M_slow = SlowMotion(C.num_frames)(P)\n",
    "    \n",
    "    print(\" Shapes of features \".center(35, '-'))\n",
    "    print(\"Input: \".ljust(15), P.shape)\n",
    "    print(\"JCD: \".ljust(15), J.shape)\n",
    "    print(\"Fast diff: \".ljust(15), M_fast.shape)\n",
    "    print(\"Slow diff: \".ljust(15), M_slow.shape)\n",
    "    \n",
    "    # Embeddings\n",
    "    eta_jcd = embed1(J, C.num_filters)\n",
    "    eta_slow = embed1(M_slow, C.num_filters)\n",
    "    eta_fast = embed2(M_fast, C.num_filters)\n",
    "    \n",
    "    # Concatenate\n",
    "    x = concatenate([eta_jcd, eta_slow, eta_fast, ])\n",
    "    \n",
    "    # 2x Conv\n",
    "    x = c2x1D(x, C.num_filters * 2)\n",
    "    x = MaxPool1D(2)(x)\n",
    "    x = SpatialDropout1D(0.1)(x)\n",
    "    \n",
    "    x = c2x1D(x, C.num_filters * 4)\n",
    "    x = MaxPool1D(2)(x)\n",
    "    x = SpatialDropout1D(0.1)(x)\n",
    "\n",
    "    x = c2x1D(x, C.num_filters * 8)\n",
    "    x = SpatialDropout1D(0.1)(x)\n",
    "    \n",
    "    # GAP\n",
    "    x = GlobalMaxPool1D()(x)\n",
    "\n",
    "    # Learning\n",
    "    x = d1D(x, 128)\n",
    "    x = Dropout(0.5)(x)\n",
    "    x = d1D(x, 128) # extra layer was in github repo\n",
    "    x = Dropout(0.5)(x)\n",
    "    \n",
    "    x = Dense(C.num_classes)(x)\n",
    "    x = Softmax()(x)\n",
    "\n",
    "    return keras.Model(inputs=P, outputs=x, name='DDnet')"
   ]
  },
  {
   "cell_type": "markdown",
   "metadata": {
    "id": "ZveylzVhC82N"
   },
   "source": [
    "## Create Model"
   ]
  },
  {
   "cell_type": "code",
   "execution_count": null,
   "metadata": {
    "colab": {
     "base_uri": "https://localhost:8080/"
    },
    "id": "KuOGYFmGEP79",
    "outputId": "ed73aec4-68ac-402e-ff7f-746df5683420"
   },
   "outputs": [
    {
     "name": "stdout",
     "output_type": "stream",
     "text": [
      "-------- Shapes of features -------\n",
      "Input:          (None, 30, 21, 3)\n",
      "JCD:            (None, 30, 210)\n",
      "Fast diff:      (None, 15, 63)\n",
      "Slow diff:      (None, 30, 63)\n"
     ]
    }
   ],
   "source": [
    "C = Config()\n",
    "model = DDnet(C)"
   ]
  },
  {
   "cell_type": "code",
   "execution_count": null,
   "metadata": {
    "colab": {
     "base_uri": "https://localhost:8080/"
    },
    "id": "DrNZO8e_b3_t",
    "outputId": "11f74171-7422-4b95-fae8-39841a1ba076"
   },
   "outputs": [
    {
     "data": {
      "text/plain": [
       "TensorShape([100, 28])"
      ]
     },
     "execution_count": 15,
     "metadata": {
      "tags": []
     },
     "output_type": "execute_result"
    }
   ],
   "source": [
    "# Run a dummy input\n",
    "P = np.ones((100, 30, 21, 3))\n",
    "res = model(P)\n",
    "res.shape"
   ]
  },
  {
   "cell_type": "code",
   "execution_count": null,
   "metadata": {
    "id": "wegDNvZfb3_v"
   },
   "outputs": [],
   "source": [
    "_DRAW = False\n",
    "\n",
    "if _DRAW:\n",
    "    keras.utils.plot_model(\n",
    "    model,\n",
    "    to_file=\"model.png\",\n",
    "    show_shapes=True,\n",
    "    show_dtype=False,\n",
    "    show_layer_names=True,\n",
    "    rankdir=\"TB\",\n",
    "    expand_nested=False,\n",
    "    dpi=96,\n",
    ")"
   ]
  },
  {
   "cell_type": "code",
   "execution_count": null,
   "metadata": {
    "id": "LFdTVzJEb3_v"
   },
   "outputs": [],
   "source": [
    "_SUMMARY = False\n",
    "\n",
    "if _SUMMARY:\n",
    "    model.summary()"
   ]
  },
  {
   "cell_type": "markdown",
   "metadata": {
    "id": "b_KbjIlVb3_w"
   },
   "source": [
    "## Load data"
   ]
  },
  {
   "cell_type": "code",
   "execution_count": null,
   "metadata": {
    "id": "u16tXsIjb3_x"
   },
   "outputs": [],
   "source": [
    "train = pickle.load(open(C.dir_data + '/train.pkl', 'rb'))\n",
    "test = pickle.load(open(C.dir_data + '/test.pkl', 'rb'))"
   ]
  },
  {
   "cell_type": "markdown",
   "metadata": {
    "id": "UV5PO1ijb3_0"
   },
   "source": [
    "#### Preprocessing"
   ]
  },
  {
   "cell_type": "code",
   "execution_count": null,
   "metadata": {
    "id": "BQYcYpF_b3_1"
   },
   "outputs": [],
   "source": [
    "def zoom(p, C: Config, target_l=30):\n",
    "    \"\"\" Resize framerate to desired length \"\"\"\n",
    "    l = p.shape[0]\n",
    "    p_new = np.empty([target_l, C.num_points, C.dim_point]) \n",
    "    for m in range(C.num_points):\n",
    "        for n in range(C.dim_point):\n",
    "            p[:, m, n] = medfilt(p[:, m, n], 3)\n",
    "            p_new[:, m, n] = inter.zoom(p[:, m, n], target_l / l)[:target_l]\n",
    "    return p_new"
   ]
  },
  {
   "cell_type": "code",
   "execution_count": null,
   "metadata": {
    "id": "BkWVMSl9b3_1"
   },
   "outputs": [],
   "source": [
    "def sampling_frame(p, C: Config):\n",
    "    \"\"\" I don't know what this does \"\"\"\n",
    "    full_l = p.shape[0] # full length\n",
    "    if random.uniform(0, 1) < 0.5: # aligment sampling\n",
    "        valid_l = np.round(np.random.uniform(0.9, 1) * full_l)\n",
    "        s = random.randint(0, full_l - int(valid_l))\n",
    "        e = s + valid_l # sample end point\n",
    "        p = p[int(s):int(e), :, :]    \n",
    "    else: # without aligment sampling\n",
    "        valid_l = np.round(np.random.uniform(0.9, 1) * full_l)\n",
    "        index = np.sort(np.random.choice(range(0, full_l), int(valid_l), replace=False))\n",
    "        p = p[index, :, :]\n",
    "    p = zoom(p, C)\n",
    "    return p"
   ]
  },
  {
   "cell_type": "code",
   "execution_count": null,
   "metadata": {
    "colab": {
     "base_uri": "https://localhost:8080/"
    },
    "id": "ZvR5cfa_b3_2",
    "outputId": "f86d867e-a984-4ea7-fe49-5e912749a5cb"
   },
   "outputs": [
    {
     "name": "stderr",
     "output_type": "stream",
     "text": [
      "100%|██████████| 1960/1960 [00:13<00:00, 148.46it/s]\n",
      "100%|██████████| 840/840 [00:05<00:00, 146.46it/s]\n"
     ]
    }
   ],
   "source": [
    "_KEY_X = 'pose'\n",
    "_KEY_Y = 'fine_label'\n",
    "\n",
    "X_train = list()\n",
    "Y_train = list()\n",
    "X_test = list()\n",
    "Y_test = list()\n",
    "\n",
    "for ds, X, Y in [ (train, X_train, Y_train), (test, X_test, Y_test) ]:\n",
    "    for idx in tqdm(range(len(ds[_KEY_X]))):\n",
    "        p = ds[_KEY_X][idx]\n",
    "        p = np.reshape(p, (-1, 21, 3))\n",
    "        p = zoom(p, C)\n",
    "        \n",
    "        l = np.zeros(C.num_classes)\n",
    "        l[ds[_KEY_Y][idx] - 1] = 1\n",
    "        \n",
    "        X.append(p)\n",
    "        Y.append(l)\n",
    "\n",
    "X_train = np.stack(X_train)\n",
    "Y_train = np.stack(Y_train)\n",
    "X_test = np.stack(X_test)\n",
    "Y_test = np.stack(Y_test)"
   ]
  },
  {
   "cell_type": "code",
   "execution_count": null,
   "metadata": {
    "colab": {
     "base_uri": "https://localhost:8080/"
    },
    "id": "0MZa5HqLb3_2",
    "outputId": "8f76cbdf-81c1-4118-d50e-f36e78cd4483"
   },
   "outputs": [
    {
     "name": "stdout",
     "output_type": "stream",
     "text": [
      "X_train:  (1960, 30, 21, 3)\n",
      "Y_train:  (1960, 28)\n",
      "X_test:  (840, 30, 21, 3)\n",
      "Y_test:  (840, 28)\n"
     ]
    }
   ],
   "source": [
    "print(\"X_train: \", X_train.shape)\n",
    "print(\"Y_train: \", Y_train.shape)\n",
    "print(\"X_test: \", X_test.shape)\n",
    "print(\"Y_test: \", Y_test.shape)"
   ]
  },
  {
   "cell_type": "markdown",
   "metadata": {
    "id": "xZSyuihqC90D"
   },
   "source": [
    "## Training"
   ]
  },
  {
   "cell_type": "markdown",
   "metadata": {
    "id": "qrbZ-kXdb3_u"
   },
   "source": [
    "#### Compile model"
   ]
  },
  {
   "cell_type": "code",
   "execution_count": null,
   "metadata": {
    "id": "lO6MS7aZb3_u"
   },
   "outputs": [],
   "source": [
    "lr = 1e-3\n",
    "min_lr = 1e-5\n",
    "optim = keras.optimizers.Adam(lr)\n",
    "loss = keras.losses.categorical_crossentropy\n",
    "metrics = [ 'accuracy' ]"
   ]
  },
  {
   "cell_type": "code",
   "execution_count": null,
   "metadata": {
    "id": "k_QwrcbLb3_v"
   },
   "outputs": [],
   "source": [
    "model.compile(optim, loss, metrics)"
   ]
  },
  {
   "cell_type": "markdown",
   "metadata": {
    "id": "KlEIWQqcb3_3"
   },
   "source": [
    "#### Callbacks"
   ]
  },
  {
   "cell_type": "code",
   "execution_count": null,
   "metadata": {
    "id": "wIyci77pb3_4"
   },
   "outputs": [],
   "source": [
    "lr_scheduler = keras.callbacks.ReduceLROnPlateau(\n",
    "    monitor='loss',\n",
    "    factor=0.5,\n",
    "    patience=5,\n",
    "    cooldown=5,\n",
    "    min_lr=min_lr,\n",
    ")"
   ]
  },
  {
   "cell_type": "code",
   "execution_count": null,
   "metadata": {
    "id": "uQ7gfWG2b3_4"
   },
   "outputs": [],
   "source": [
    "tb_callback = keras.callbacks.TensorBoard(\n",
    "    log_dir=\"./logs/\",\n",
    "    histogram_freq=0,\n",
    "    write_graph=True,\n",
    "    write_images=False,\n",
    "    update_freq=\"epoch\",\n",
    "    profile_batch=2,\n",
    "    embeddings_freq=0,\n",
    "    embeddings_metadata=None,\n",
    ")"
   ]
  },
  {
   "cell_type": "code",
   "execution_count": null,
   "metadata": {
    "id": "at4BehH4gFUU"
   },
   "outputs": [],
   "source": [
    "early_stopping = keras.callbacks.EarlyStopping(patience=10, restore_best_weights=True)"
   ]
  },
  {
   "cell_type": "markdown",
   "metadata": {
    "id": "cba1rrgob3_5"
   },
   "source": [
    "#### Fitting"
   ]
  },
  {
   "cell_type": "code",
   "execution_count": null,
   "metadata": {
    "colab": {
     "base_uri": "https://localhost:8080/"
    },
    "id": "tIUBNYCHb3_6",
    "outputId": "576cd84c-1955-4c18-d8a7-adc139c87645"
   },
   "outputs": [
    {
     "name": "stdout",
     "output_type": "stream",
     "text": [
      "Epoch 1/400\n",
      "62/62 [==============================] - 12s 111ms/step - loss: 3.8765 - accuracy: 0.0571 - val_loss: 3.4056 - val_accuracy: 0.0321\n",
      "Epoch 2/400\n",
      "62/62 [==============================] - 5s 87ms/step - loss: 3.1991 - accuracy: 0.0923 - val_loss: 3.5882 - val_accuracy: 0.0369\n",
      "Epoch 3/400\n",
      "62/62 [==============================] - 6s 89ms/step - loss: 2.7843 - accuracy: 0.1997 - val_loss: 3.8359 - val_accuracy: 0.0333\n",
      "Epoch 4/400\n",
      "62/62 [==============================] - 5s 87ms/step - loss: 2.4018 - accuracy: 0.2894 - val_loss: 3.9596 - val_accuracy: 0.0607\n",
      "Epoch 5/400\n",
      "62/62 [==============================] - 5s 88ms/step - loss: 2.0295 - accuracy: 0.3893 - val_loss: 3.5422 - val_accuracy: 0.0929\n",
      "Epoch 6/400\n",
      "62/62 [==============================] - 5s 87ms/step - loss: 1.8265 - accuracy: 0.4362 - val_loss: 3.0647 - val_accuracy: 0.1798\n",
      "Epoch 7/400\n",
      "62/62 [==============================] - 5s 88ms/step - loss: 1.6677 - accuracy: 0.4882 - val_loss: 2.3424 - val_accuracy: 0.3548\n",
      "Epoch 8/400\n",
      "62/62 [==============================] - 6s 89ms/step - loss: 1.4855 - accuracy: 0.5583 - val_loss: 1.7396 - val_accuracy: 0.5012\n",
      "Epoch 9/400\n",
      "62/62 [==============================] - 5s 87ms/step - loss: 1.4168 - accuracy: 0.5613 - val_loss: 1.4453 - val_accuracy: 0.5798\n",
      "Epoch 10/400\n",
      "62/62 [==============================] - 5s 89ms/step - loss: 1.2588 - accuracy: 0.6265 - val_loss: 0.9621 - val_accuracy: 0.7357\n",
      "Epoch 11/400\n",
      "62/62 [==============================] - 5s 89ms/step - loss: 1.2250 - accuracy: 0.6318 - val_loss: 0.9063 - val_accuracy: 0.7357\n",
      "Epoch 12/400\n",
      "62/62 [==============================] - 6s 89ms/step - loss: 1.1128 - accuracy: 0.6609 - val_loss: 0.7311 - val_accuracy: 0.7929\n",
      "Epoch 13/400\n",
      "62/62 [==============================] - 6s 89ms/step - loss: 1.1023 - accuracy: 0.6656 - val_loss: 1.4569 - val_accuracy: 0.4714\n",
      "Epoch 14/400\n",
      "62/62 [==============================] - 5s 88ms/step - loss: 0.9771 - accuracy: 0.6969 - val_loss: 0.6116 - val_accuracy: 0.8345\n",
      "Epoch 15/400\n",
      "62/62 [==============================] - 6s 94ms/step - loss: 0.9753 - accuracy: 0.6985 - val_loss: 0.6173 - val_accuracy: 0.8274\n",
      "Epoch 16/400\n",
      "62/62 [==============================] - 5s 88ms/step - loss: 0.8957 - accuracy: 0.7146 - val_loss: 0.6791 - val_accuracy: 0.8143\n",
      "Epoch 17/400\n",
      "62/62 [==============================] - 6s 91ms/step - loss: 0.8892 - accuracy: 0.7321 - val_loss: 0.5876 - val_accuracy: 0.8202\n",
      "Epoch 18/400\n",
      "62/62 [==============================] - 6s 91ms/step - loss: 0.8328 - accuracy: 0.7406 - val_loss: 1.1786 - val_accuracy: 0.5810\n",
      "Epoch 19/400\n",
      "62/62 [==============================] - 6s 91ms/step - loss: 0.7885 - accuracy: 0.7665 - val_loss: 0.6066 - val_accuracy: 0.8131\n",
      "Epoch 20/400\n",
      "62/62 [==============================] - 6s 90ms/step - loss: 0.7745 - accuracy: 0.7557 - val_loss: 0.5258 - val_accuracy: 0.8405\n",
      "Epoch 21/400\n",
      "62/62 [==============================] - 6s 94ms/step - loss: 0.7986 - accuracy: 0.7452 - val_loss: 0.6281 - val_accuracy: 0.8131\n",
      "Epoch 22/400\n",
      "62/62 [==============================] - 6s 91ms/step - loss: 0.7358 - accuracy: 0.7893 - val_loss: 0.5084 - val_accuracy: 0.8381\n",
      "Epoch 23/400\n",
      "62/62 [==============================] - 6s 89ms/step - loss: 0.6985 - accuracy: 0.7707 - val_loss: 0.4833 - val_accuracy: 0.8750\n",
      "Epoch 24/400\n",
      "62/62 [==============================] - 6s 90ms/step - loss: 0.5904 - accuracy: 0.8324 - val_loss: 0.4707 - val_accuracy: 0.8595\n",
      "Epoch 25/400\n",
      "62/62 [==============================] - 5s 89ms/step - loss: 0.6666 - accuracy: 0.8066 - val_loss: 0.4710 - val_accuracy: 0.8595\n",
      "Epoch 26/400\n",
      "62/62 [==============================] - 6s 89ms/step - loss: 0.5985 - accuracy: 0.8244 - val_loss: 0.4992 - val_accuracy: 0.8464\n",
      "Epoch 27/400\n",
      "62/62 [==============================] - 6s 92ms/step - loss: 0.5299 - accuracy: 0.8417 - val_loss: 0.5664 - val_accuracy: 0.8310\n",
      "Epoch 28/400\n",
      "62/62 [==============================] - 6s 92ms/step - loss: 0.6050 - accuracy: 0.8141 - val_loss: 0.4415 - val_accuracy: 0.8738\n",
      "Epoch 29/400\n",
      "62/62 [==============================] - 6s 89ms/step - loss: 0.5732 - accuracy: 0.8281 - val_loss: 0.4876 - val_accuracy: 0.8536\n",
      "Epoch 30/400\n",
      "62/62 [==============================] - 6s 90ms/step - loss: 0.5433 - accuracy: 0.8524 - val_loss: 0.4956 - val_accuracy: 0.8571\n",
      "Epoch 31/400\n",
      "62/62 [==============================] - 6s 89ms/step - loss: 0.6028 - accuracy: 0.8306 - val_loss: 0.4148 - val_accuracy: 0.8869\n",
      "Epoch 32/400\n",
      "62/62 [==============================] - 6s 92ms/step - loss: 0.4832 - accuracy: 0.8576 - val_loss: 0.4163 - val_accuracy: 0.8714\n",
      "Epoch 33/400\n",
      "62/62 [==============================] - 6s 91ms/step - loss: 0.5502 - accuracy: 0.8377 - val_loss: 0.5281 - val_accuracy: 0.8452\n",
      "Epoch 34/400\n",
      "62/62 [==============================] - 6s 92ms/step - loss: 0.5976 - accuracy: 0.8114 - val_loss: 0.4145 - val_accuracy: 0.8893\n",
      "Epoch 35/400\n",
      "62/62 [==============================] - 5s 89ms/step - loss: 0.4371 - accuracy: 0.8674 - val_loss: 0.9023 - val_accuracy: 0.7143\n",
      "Epoch 36/400\n",
      "62/62 [==============================] - 5s 89ms/step - loss: 0.4649 - accuracy: 0.8637 - val_loss: 0.4769 - val_accuracy: 0.8571\n",
      "Epoch 37/400\n",
      "62/62 [==============================] - 6s 93ms/step - loss: 0.4806 - accuracy: 0.8593 - val_loss: 0.4431 - val_accuracy: 0.8714\n",
      "Epoch 38/400\n",
      "62/62 [==============================] - 6s 90ms/step - loss: 0.4406 - accuracy: 0.8736 - val_loss: 0.5709 - val_accuracy: 0.8417\n",
      "Epoch 39/400\n",
      "62/62 [==============================] - 5s 89ms/step - loss: 0.4195 - accuracy: 0.8734 - val_loss: 0.4387 - val_accuracy: 0.8786\n",
      "Epoch 40/400\n",
      "62/62 [==============================] - 5s 88ms/step - loss: 0.4054 - accuracy: 0.8784 - val_loss: 0.5448 - val_accuracy: 0.8250\n",
      "Epoch 41/400\n",
      "62/62 [==============================] - 5s 89ms/step - loss: 0.5425 - accuracy: 0.8497 - val_loss: 0.3855 - val_accuracy: 0.8857\n",
      "Epoch 42/400\n",
      "62/62 [==============================] - 6s 90ms/step - loss: 0.4141 - accuracy: 0.8827 - val_loss: 0.7594 - val_accuracy: 0.7786\n",
      "Epoch 43/400\n",
      "62/62 [==============================] - 6s 91ms/step - loss: 0.4557 - accuracy: 0.8642 - val_loss: 0.3813 - val_accuracy: 0.8988\n",
      "Epoch 44/400\n",
      "62/62 [==============================] - 6s 90ms/step - loss: 0.4246 - accuracy: 0.8745 - val_loss: 0.3684 - val_accuracy: 0.8964\n",
      "Epoch 45/400\n",
      "62/62 [==============================] - 6s 91ms/step - loss: 0.4234 - accuracy: 0.8673 - val_loss: 0.3769 - val_accuracy: 0.8905\n",
      "Epoch 46/400\n",
      "62/62 [==============================] - 5s 89ms/step - loss: 0.3590 - accuracy: 0.8835 - val_loss: 0.3876 - val_accuracy: 0.8905\n",
      "Epoch 47/400\n",
      "62/62 [==============================] - 6s 89ms/step - loss: 0.3424 - accuracy: 0.8966 - val_loss: 0.4574 - val_accuracy: 0.8679\n",
      "Epoch 48/400\n",
      "62/62 [==============================] - 6s 89ms/step - loss: 0.3011 - accuracy: 0.9147 - val_loss: 0.3604 - val_accuracy: 0.8988\n",
      "Epoch 49/400\n",
      "62/62 [==============================] - 5s 89ms/step - loss: 0.2861 - accuracy: 0.9159 - val_loss: 0.3573 - val_accuracy: 0.8893\n",
      "Epoch 50/400\n",
      "62/62 [==============================] - 5s 88ms/step - loss: 0.2896 - accuracy: 0.9212 - val_loss: 0.4720 - val_accuracy: 0.8738\n",
      "Epoch 51/400\n",
      "62/62 [==============================] - 5s 89ms/step - loss: 0.2853 - accuracy: 0.9180 - val_loss: 0.3413 - val_accuracy: 0.9048\n",
      "Epoch 52/400\n",
      "62/62 [==============================] - 5s 89ms/step - loss: 0.3175 - accuracy: 0.9057 - val_loss: 0.4444 - val_accuracy: 0.8821\n",
      "Epoch 53/400\n",
      "62/62 [==============================] - 6s 91ms/step - loss: 0.3324 - accuracy: 0.9011 - val_loss: 0.3611 - val_accuracy: 0.9071\n",
      "Epoch 54/400\n",
      "62/62 [==============================] - 6s 90ms/step - loss: 0.2911 - accuracy: 0.9110 - val_loss: 0.3577 - val_accuracy: 0.9000\n",
      "Epoch 55/400\n",
      "62/62 [==============================] - 6s 89ms/step - loss: 0.2519 - accuracy: 0.9317 - val_loss: 0.5120 - val_accuracy: 0.8643\n",
      "Epoch 56/400\n",
      "62/62 [==============================] - 6s 92ms/step - loss: 0.2790 - accuracy: 0.9146 - val_loss: 0.4749 - val_accuracy: 0.8702\n",
      "Epoch 57/400\n",
      "62/62 [==============================] - 6s 90ms/step - loss: 0.2837 - accuracy: 0.9259 - val_loss: 0.3985 - val_accuracy: 0.8905\n",
      "Epoch 58/400\n",
      "62/62 [==============================] - 6s 92ms/step - loss: 0.3080 - accuracy: 0.9161 - val_loss: 0.5830 - val_accuracy: 0.8417\n",
      "Epoch 59/400\n",
      "62/62 [==============================] - 6s 90ms/step - loss: 0.2905 - accuracy: 0.9065 - val_loss: 0.3519 - val_accuracy: 0.9036\n",
      "Epoch 60/400\n",
      "62/62 [==============================] - 6s 91ms/step - loss: 0.2794 - accuracy: 0.9215 - val_loss: 0.3762 - val_accuracy: 0.8964\n",
      "Epoch 61/400\n",
      "62/62 [==============================] - 5s 89ms/step - loss: 0.2571 - accuracy: 0.9250 - val_loss: 0.3559 - val_accuracy: 0.9071\n"
     ]
    }
   ],
   "source": [
    "history = model.fit(\n",
    "    X_train, Y_train,\n",
    "    batch_size=32,\n",
    "    epochs=400,\n",
    "    verbose=True,\n",
    "    shuffle=True,\n",
    "    callbacks=[ lr_scheduler, tb_callback, early_stopping, ],\n",
    "    validation_data=(X_test, Y_test)\n",
    ")"
   ]
  },
  {
   "cell_type": "code",
   "execution_count": null,
   "metadata": {
    "colab": {
     "base_uri": "https://localhost:8080/"
    },
    "id": "seiYm73ofGrK",
    "outputId": "c48190da-6f63-4156-8e2d-f8bcb3feba68"
   },
   "outputs": [
    {
     "name": "stdout",
     "output_type": "stream",
     "text": [
      "INFO:tensorflow:Assets written to: ./model/assets\n"
     ]
    }
   ],
   "source": [
    "model.save(C.dir_save)"
   ]
  },
  {
   "cell_type": "markdown",
   "metadata": {
    "id": "aNe-allRqy2C"
   },
   "source": [
    "## Evaluate"
   ]
  },
  {
   "cell_type": "code",
   "execution_count": null,
   "metadata": {
    "id": "PYGc0fzXtB96"
   },
   "outputs": [],
   "source": [
    "labels = ['Grab(1)','Grab(2)', 'Tap(1)', 'Tap(2)','Expand(1)', 'Expand(2)',\n",
    "          'Pinch(1)', 'Pinch(2)', 'RC(1)', 'RC(2)', 'RCC(1)', 'RCC(2)','SR(1)', 'SR(2)',\n",
    "          'SL(1)', 'SL(2)','SU(1)', 'SU(2)','SD(1)','SD(2)',\n",
    "           'SX(1)', 'SX(2)','S+(1)','S+(2)', 'SV(1)', 'SV(2)','Shake(1)','Shake(2)']"
   ]
  },
  {
   "cell_type": "code",
   "execution_count": null,
   "metadata": {
    "id": "qDTMtbZitW3q"
   },
   "outputs": [],
   "source": [
    "Y_pred = model.predict(X_test)\n",
    "\n",
    "y_true = []\n",
    "for i in np.argmax(Y_test,axis=1):\n",
    "    y_true.append(labels[i])\n",
    "    \n",
    "y_pred = []\n",
    "for i in np.argmax(Y_pred,axis=1):\n",
    "    y_pred.append(labels[i])"
   ]
  },
  {
   "cell_type": "code",
   "execution_count": null,
   "metadata": {
    "id": "Iq1x9bzVvCtC"
   },
   "outputs": [],
   "source": [
    "from sklearn.metrics import confusion_matrix\n",
    "from matplotlib import pyplot as plt\n",
    "import seaborn as sns\n",
    "\n",
    "def cm_analysis(y_true, y_pred, labels, ymap=None, figsize=(8,8)):\n",
    "    \"\"\"\n",
    "    Generate matrix plot of confusion matrix with pretty annotations.\n",
    "    The plot image is saved to disk.\n",
    "    args: \n",
    "      y_true:    true label of the data, with shape (nsamples,)\n",
    "      y_pred:    prediction of the data, with shape (nsamples,)\n",
    "      labels:    string array, name the order of class labels in the confusion matrix.\n",
    "                 use `clf.classes_` if using scikit-learn models.\n",
    "                 with shape (nclass,).\n",
    "      ymap:      dict: any -> string, length == nclass.\n",
    "                 if not None, map the labels & ys to more understandable strings.\n",
    "                 Caution: original y_true, y_pred and labels must align.\n",
    "      figsize:   the size of the figure plotted.\n",
    "    \"\"\"\n",
    "    if ymap is not None:\n",
    "        y_pred = [ymap[yi] for yi in y_pred]\n",
    "        y_true = [ymap[yi] for yi in y_true]\n",
    "        labels = [ymap[yi] for yi in labels]\n",
    "    cm = confusion_matrix(y_true, y_pred, labels=labels)\n",
    "    cm_sum = np.sum(cm, axis=1, keepdims=True)\n",
    "    cm_perc = cm / cm_sum.astype(float) * 100\n",
    "    annot = np.empty_like(cm).astype(str)\n",
    "    nrows, ncols = cm.shape\n",
    "    for i in range(nrows):\n",
    "        for j in range(ncols):\n",
    "            c = cm[i, j]\n",
    "            p = cm_perc[i, j]\n",
    "            if i == j:\n",
    "                s = cm_sum[i]\n",
    "                #annot[i, j] = '%.1f%%\\n%d/%d' % (p, c, s)\n",
    "                annot[i, j] = '%.1f' % (p)\n",
    "            elif c == 0:\n",
    "                annot[i, j] = ''\n",
    "            else:\n",
    "                #annot[i, j] = '%.1f%%\\n%d' % (p, c)\n",
    "                annot[i, j] = '%.1f' % (p)\n",
    "    cm = pd.DataFrame(cm, index=labels, columns=labels)\n",
    "    cm.index.name = 'Actual'\n",
    "    cm.columns.name = 'Predicted'\n",
    "    fig, ax = plt.subplots(figsize=figsize)\n",
    "    sns.heatmap(cm, annot=annot, fmt='', ax=ax, cbar=False, cmap=\"YlGnBu\")\n"
   ]
  },
  {
   "cell_type": "code",
   "execution_count": null,
   "metadata": {
    "colab": {
     "base_uri": "https://localhost:8080/",
     "height": 756
    },
    "id": "nzpB4BmIvbrf",
    "outputId": "4dcd3d8a-0ac0-42d7-82a1-a8e8986d75c3"
   },
   "outputs": [
    {
     "data": {
      "image/png": "[encoded data removed]",
      "text/plain": [
       "<Figure size 864x864 with 1 Axes>"
      ]
     },
     "metadata": {
      "needs_background": "light",
      "tags": []
     },
     "output_type": "display_data"
    }
   ],
   "source": [
    "cm_analysis(y_true, y_pred, labels, ymap=None, figsize=(12,12))"
   ]
  },
  {
   "cell_type": "markdown",
   "metadata": {
    "id": "4liH4OPe0lhq"
   },
   "source": [
    "## Colab"
   ]
  },
  {
   "cell_type": "markdown",
   "metadata": {
    "id": "xIA7vF0-_GVm"
   },
   "source": [
    "#### Data"
   ]
  },
  {
   "cell_type": "code",
   "execution_count": null,
   "metadata": {
    "colab": {
     "base_uri": "https://localhost:8080/"
    },
    "id": "kIYN57IA_Hc9",
    "outputId": "4b80d0fd-0357-4c04-830c-66187ec971b2"
   },
   "outputs": [
    {
     "name": "stdout",
     "output_type": "stream",
     "text": [
      "Downloading...\n",
      "From: https://drive.google.com/uc?id=1C2FsR99wzwBKaM-qSyVFAISMMkHnmRid\n",
      "To: /content/data/test.pkl\n",
      "12.6MB [00:00, 24.5MB/s]\n",
      "Downloading...\n",
      "From: https://drive.google.com/uc?id=1LtWk9mrsF_iR-YJ8FQP8uXNstQNqke9d\n",
      "To: /content/data/train.pkl\n",
      "29.3MB [00:00, 47.3MB/s]\n"
     ]
    }
   ],
   "source": [
    "!rm -rf ./sample_data\n",
    "!mkdir ./data/\n",
    "!gdown --id 1C2FsR99wzwBKaM-qSyVFAISMMkHnmRid -O ./data/test.pkl\n",
    "!gdown --id 1LtWk9mrsF_iR-YJ8FQP8uXNstQNqke9d -O ./data/train.pkl"
   ]
  },
  {
   "cell_type": "markdown",
   "metadata": {
    "id": "bI8JxZqX-vfP"
   },
   "source": [
    "#### For downloading model and logs"
   ]
  },
  {
   "cell_type": "code",
   "execution_count": null,
   "metadata": {
    "colab": {
     "base_uri": "https://localhost:8080/"
    },
    "id": "rUT9387r-s8C",
    "outputId": "72028f93-6fcc-4ccb-c498-464508523d23"
   },
   "outputs": [
    {
     "name": "stdout",
     "output_type": "stream",
     "text": [
      "  adding: model/ (stored 0%)\n",
      "  adding: model/assets/ (stored 0%)\n",
      "  adding: model/saved_model.pb (deflated 91%)\n",
      "  adding: model/variables/ (stored 0%)\n",
      "  adding: model/variables/variables.data-00000-of-00001 (deflated 11%)\n",
      "  adding: model/variables/variables.index (deflated 78%)\n"
     ]
    }
   ],
   "source": [
    "!zip -r model.zip ./model/"
   ]
  },
  {
   "cell_type": "code",
   "execution_count": null,
   "metadata": {
    "colab": {
     "base_uri": "https://localhost:8080/"
    },
    "id": "NvQUhnc--7-F",
    "outputId": "a40dde38-214e-4a01-f057-e6012b8b0a4a"
   },
   "outputs": [
    {
     "name": "stdout",
     "output_type": "stream",
     "text": [
      "  adding: logs/ (stored 0%)\n",
      "  adding: logs/validation/ (stored 0%)\n",
      "  adding: logs/validation/events.out.tfevents.1609442102.966dcf1508b8.57.10422.v2 (deflated 66%)\n",
      "  adding: logs/train/ (stored 0%)\n",
      "  adding: logs/train/events.out.tfevents.1609442097.966dcf1508b8.profile-empty (deflated 5%)\n",
      "  adding: logs/train/plugins/ (stored 0%)\n",
      "  adding: logs/train/plugins/profile/ (stored 0%)\n",
      "  adding: logs/train/plugins/profile/2020_12_31_19_14_57/ (stored 0%)\n",
      "  adding: logs/train/plugins/profile/2020_12_31_19_14_57/966dcf1508b8.overview_page.pb (deflated 61%)\n",
      "  adding: logs/train/plugins/profile/2020_12_31_19_14_57/966dcf1508b8.memory_profile.json.gz (stored 0%)\n",
      "  adding: logs/train/plugins/profile/2020_12_31_19_14_57/966dcf1508b8.kernel_stats.pb (stored 0%)\n",
      "  adding: logs/train/plugins/profile/2020_12_31_19_14_57/966dcf1508b8.tensorflow_stats.pb (deflated 70%)\n",
      "  adding: logs/train/plugins/profile/2020_12_31_19_14_57/966dcf1508b8.input_pipeline.pb (deflated 56%)\n",
      "  adding: logs/train/plugins/profile/2020_12_31_19_14_57/966dcf1508b8.xplane.pb (deflated 75%)\n",
      "  adding: logs/train/plugins/profile/2020_12_31_19_14_57/966dcf1508b8.trace.json.gz (deflated 0%)\n",
      "  adding: logs/train/events.out.tfevents.1609442092.966dcf1508b8.57.3983.v2 (deflated 92%)\n"
     ]
    }
   ],
   "source": [
    "!zip -r logs.zip ./logs/"
   ]
  },
  {
   "cell_type": "markdown",
   "metadata": {
    "id": "RN_S6VlJ-tYE"
   },
   "source": [
    "#### Tensorboard"
   ]
  },
  {
   "cell_type": "code",
   "execution_count": null,
   "metadata": {
    "id": "05rR9W9ri6R0"
   },
   "outputs": [],
   "source": [
    "%load_ext tensorboard"
   ]
  },
  {
   "cell_type": "code",
   "execution_count": null,
   "metadata": {
    "id": "qsjppVCcjFKj"
   },
   "outputs": [],
   "source": [
    "%tensorboard --logdir logs"
   ]
  }
 ],
 "metadata": {
  "colab": {
   "name": "ddnet.ipynb",
   "provenance": [],
   "toc_visible": true
  },
  "kernelspec": {
   "display_name": "Python 3",
   "language": "python",
   "name": "python3"
  },
  "language_info": {
   "codemirror_mode": {
    "name": "ipython",
    "version": 3
   },
   "file_extension": ".py",
   "mimetype": "text/x-python",
   "name": "python",
   "nbconvert_exporter": "python",
   "pygments_lexer": "ipython3",
   "version": "3.8.3"
  }
 },
 "nbformat": 4,
 "nbformat_minor": 1
}
