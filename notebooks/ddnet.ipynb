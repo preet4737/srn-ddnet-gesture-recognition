{
 "cells": [
  {
   "cell_type": "markdown",
   "metadata": {
    "id": "M2p8ijH90_ak"
   },
   "source": [
    "# DDNet\n",
    "\n",
    "This notebook contains the model definition, implementation and training for DDNet hand pose to gesture recognition model\n",
    "\n",
    "Official: https://github.com/fandulu/DD-Net"
   ]
  },
  {
   "cell_type": "markdown",
   "metadata": {
    "id": "Mdow9sKfDNYi"
   },
   "source": [
    "## Prologue"
   ]
  },
  {
   "cell_type": "code",
   "execution_count": 1,
   "metadata": {
    "id": "LQR0x27FDPfZ"
   },
   "outputs": [],
   "source": [
    "from scipy.ndimage import interpolation as inter\n",
    "from dataclasses import dataclass\n",
    "from scipy.signal import medfilt\n",
    "from keras.layers import *\n",
    "from tqdm import tqdm\n",
    "import tensorflow as tf\n",
    "import pandas as pd\n",
    "import numpy as np\n",
    "import pickle\n",
    "import random\n",
    "import keras\n",
    "import cv2\n",
    "import os"
   ]
  },
  {
   "cell_type": "code",
   "execution_count": 2,
   "metadata": {
    "id": "xSYcTymDb3_f"
   },
   "outputs": [],
   "source": [
    "random.seed(42069)"
   ]
  },
  {
   "cell_type": "markdown",
   "metadata": {
    "id": "lDeyKLirC6nU"
   },
   "source": [
    "## Configuration"
   ]
  },
  {
   "cell_type": "markdown",
   "metadata": {
    "id": "Hfv-3Rbmb3_g"
   },
   "source": [
    "`num_frames` - Number of frames to be analysed, represented as $K$ in paper. Different from batch size.\n",
    "\n",
    "`num_points` - Number of points in a frame, represented as $N$ in paper. DDnet uses 22 but we use 21.\n",
    "\n",
    "`dim_point` - Dimension of one point. We use 3D points $(x, y, z)$.\n",
    "\n",
    "`dim_jcd` - Dimension of JCD matrix after flattening. Value is given by $\\binom{N}{2}$\n",
    "\n",
    "`num_classes` - Number of classes to recognise. To be decided, but SHREC contains either 14 or 28 classes.\n",
    "\n",
    "`filters` - Configurable number of filters to use in $Conv$ layers.\n",
    "\n",
    "`dir_save` - Directory path to save model.\n",
    "\n",
    "`dir_data` - Directory path to cleaned data, from SHREC format to Mediapipe format."
   ]
  },
  {
   "cell_type": "code",
   "execution_count": 3,
   "metadata": {
    "id": "j7ZJEBWRb3_h"
   },
   "outputs": [],
   "source": [
    "@dataclass\n",
    "class Config:\n",
    "    num_frames = 30\n",
    "    num_points = 21\n",
    "    dim_point = 3\n",
    "    dim_jcd = 210\n",
    "    num_classes = 14\n",
    "    num_filters = 64\n",
    "    dir_save = './model/'\n",
    "    dir_data = './data/'\n",
    "    \n",
    "C = Config()"
   ]
  },
  {
   "cell_type": "markdown",
   "metadata": {
    "id": "Q7PqeQDeb3_h"
   },
   "source": [
    "## Model"
   ]
  },
  {
   "cell_type": "markdown",
   "metadata": {
    "id": "Amd2C0f4b3_i"
   },
   "source": [
    "Reference: _Fan Yang, Sakriani Sakti, Yang Wu, & Satoshi Nakamura. (2020). Make Skeleton-based Action Recognition Model Smaller, Faster and Better._"
   ]
  },
  {
   "cell_type": "markdown",
   "metadata": {
    "id": "rMc1aUEgb3_j"
   },
   "source": [
    "#### Basic blocks"
   ]
  },
  {
   "cell_type": "code",
   "execution_count": 4,
   "metadata": {
    "id": "qP-Qyd7Ob3_j"
   },
   "outputs": [],
   "source": [
    "def c1D(x: tf.Tensor, filters: int, kernel: int) -> tf.Tensor:\n",
    "    \"\"\" 1D Convolution for embeddings \"\"\"\n",
    "    x = Conv1D(filters, kernel_size=kernel, padding='same', use_bias=False)(x)\n",
    "    x = BatchNormalization()(x)\n",
    "    x = LeakyReLU(alpha=0.2)(x)\n",
    "    return x"
   ]
  },
  {
   "cell_type": "code",
   "execution_count": 5,
   "metadata": {
    "id": "jMs_6In_b3_j"
   },
   "outputs": [],
   "source": [
    "def c2x1D(x: tf.Tensor, filters: int) -> tf.Tensor:\n",
    "    \"\"\" 2 x 1D Convolutions after concatenation \"\"\"\n",
    "    x = c1D(x, filters, 3)\n",
    "    x = c1D(x, filters, 3)\n",
    "    return x"
   ]
  },
  {
   "cell_type": "code",
   "execution_count": 6,
   "metadata": {
    "id": "PQAqID-Wb3_k"
   },
   "outputs": [],
   "source": [
    "def d1D(x: tf.Tensor, filters: int) -> tf.Tensor:\n",
    "    \"\"\" FC layer \"\"\"\n",
    "    x = Dense(filters, use_bias=False)(x)\n",
    "    x = BatchNormalization()(x)\n",
    "    x = LeakyReLU(alpha=0.2)(x)\n",
    "    return x"
   ]
  },
  {
   "cell_type": "markdown",
   "metadata": {
    "id": "-6rhgVblb3_k"
   },
   "source": [
    "#### Fast and slow motion"
   ]
  },
  {
   "cell_type": "code",
   "execution_count": 7,
   "metadata": {
    "id": "rJDPCdT0b3_l"
   },
   "outputs": [],
   "source": [
    "@tf.function\n",
    "def poses_diff(x: tf.Tensor) -> tf.Tensor:\n",
    "    \"\"\" Calculate difference between poses for a buffer \"\"\"\n",
    "    H, W = x.get_shape()[1], x.get_shape()[2]\n",
    "    x = tf.subtract(x[:, 1:, ...], x[:, :-1, ...])\n",
    "    x = tf.image.resize(x, size=(H, W, ))\n",
    "    return x\n",
    "\n",
    "class SlowMotion(Layer):\n",
    "    def __init__(self, num_frames: int):\n",
    "        super(SlowMotion, self).__init__()\n",
    "        self.num_frames = num_frames\n",
    "        \n",
    "    def get_config(self):\n",
    "        return {\"num_frames\": self.num_frames}\n",
    "    \n",
    "    def call(self, inputs):\n",
    "        M_diff_slow = poses_diff(inputs)\n",
    "        \n",
    "        ps = inputs.shape[2] * inputs.shape[3]\n",
    "        M_diff_slow = tf.reshape(M_diff_slow, (-1, self.num_frames, ps, ))\n",
    "        return M_diff_slow\n",
    "    \n",
    "class FastMotion(Layer):\n",
    "    def __init__(self, num_frames: int):\n",
    "        super(FastMotion, self).__init__()\n",
    "        self.num_frames = num_frames\n",
    "        \n",
    "    def get_config(self):\n",
    "        return {\"num_frames\": self.num_frames}\n",
    "    \n",
    "    def call(self, inputs):\n",
    "        M_fast = inputs[:, ::2, ...]\n",
    "        M_diff_fast = poses_diff(M_fast)\n",
    "        \n",
    "        ps = inputs.shape[2] * inputs.shape[3]\n",
    "        M_diff_fast = tf.reshape(M_diff_fast, (-1, self.num_frames // 2, ps, ) )\n",
    "        return M_diff_fast"
   ]
  },
  {
   "cell_type": "markdown",
   "metadata": {
    "id": "NmyK02gAb3_n"
   },
   "source": [
    "#### JCD Preprocessing"
   ]
  },
  {
   "cell_type": "code",
   "execution_count": 8,
   "metadata": {
    "id": "26AkgomvNwfG"
   },
   "outputs": [],
   "source": [
    "class JCD(Layer):\n",
    "    def __init__(self, num_frames: int, dim_jcd: int):\n",
    "        super(JCD, self).__init__()\n",
    "        self.num_frames = num_frames\n",
    "        self.dim_jcd = dim_jcd\n",
    "        \n",
    "    def get_config(self):\n",
    "        return {\"num_frames\": self.num_frames, \"dim_jcd\": self.dim_jcd}\n",
    "        \n",
    "    @tf.function\n",
    "    def get_jcd(self, x: tf.Tensor) -> tf.Tensor:\n",
    "        n = tf.reduce_sum(tf.square(x), 1)\n",
    "        na = tf.reshape(n, [-1, 1])\n",
    "        nb = tf.reshape(n, [1, -1])\n",
    "        D = tf.sqrt(tf.maximum(na - 2*tf.matmul(x, x, False, True) + nb, 0.0))\n",
    "        return D\n",
    "\n",
    "    @tf.function\n",
    "    def jcd_flatten(self, D: tf.Tensor) -> tf.Tensor:\n",
    "        ones = tf.ones_like(D)\n",
    "        mask_a = tf.linalg.band_part(ones, 0, -1) # Upper triangular matrix of 0s and 1s\n",
    "        mask_b = tf.linalg.band_part(ones, 0, 0)  # Diagonal matrix of 0s and 1s\n",
    "        mask = tf.cast(mask_a - mask_b, dtype=tf.bool) # Make a bool mask\n",
    "        triu = tf.boolean_mask(D, mask)\n",
    "        return triu\n",
    "\n",
    "    @tf.function\n",
    "    def jcd_frames(self, P: tf.Tensor) -> tf.Tensor:\n",
    "        buf = tf.slice(P, [0, 0, 0], [self.num_frames, 21, 3])\n",
    "        D = tf.map_fn(self.get_jcd, buf)\n",
    "        J = tf.map_fn(self.jcd_flatten, D)\n",
    "        return J\n",
    "\n",
    "    def call(self, inputs):\n",
    "        J = tf.map_fn(self.jcd_frames, inputs)\n",
    "        J = tf.reshape(J, (-1, self.num_frames, self.dim_jcd, ))\n",
    "        return J"
   ]
  },
  {
   "cell_type": "markdown",
   "metadata": {
    "id": "EnPhagY3b3_p"
   },
   "source": [
    "#### Embedding blocks"
   ]
  },
  {
   "cell_type": "code",
   "execution_count": 9,
   "metadata": {
    "id": "S4A9dXMBDH88"
   },
   "outputs": [],
   "source": [
    "def embed1(x: tf.Tensor, filters: int) -> tf.Tensor:\n",
    "    \"\"\" Embedding mapper for JCD and Slow motion \"\"\"\n",
    "    x = c1D(x, filters*2, 1)\n",
    "    x = SpatialDropout1D(0.1)(x)\n",
    "    x = c1D(x, filters, 3)\n",
    "    x = SpatialDropout1D(0.1)(x)\n",
    "    x = c1D(x, filters, 1)\n",
    "    x = MaxPooling1D(2)(x)\n",
    "    x = SpatialDropout1D(0.1)(x)\n",
    "    return x"
   ]
  },
  {
   "cell_type": "code",
   "execution_count": 10,
   "metadata": {
    "id": "a3z7VVl6b3_p"
   },
   "outputs": [],
   "source": [
    "def embed2(x: tf.Tensor, filters: int) -> tf.Tensor:\n",
    "    \"\"\" Embedding mapper for Fast motion, since half the temporal length \"\"\"\n",
    "    x = c1D(x, filters*2, 1)\n",
    "    x = SpatialDropout1D(0.1)(x)\n",
    "    x = c1D(x, filters, 3) \n",
    "    x = SpatialDropout1D(0.1)(x)\n",
    "    x = c1D(x, filters, 1)\n",
    "    x = SpatialDropout1D(0.1)(x)\n",
    "    return x"
   ]
  },
  {
   "cell_type": "code",
   "execution_count": 11,
   "metadata": {},
   "outputs": [],
   "source": [
    "def scale_tensor(x: tf.Tensor) -> tf.Tensor:\n",
    "    y = tf.reduce_mean(x, axis = -1, keepdims = True)\n",
    "    print(y.shape)\n",
    "    z = tf.math.truediv(x, y)\n",
    "    return z"
   ]
  },
  {
   "cell_type": "markdown",
   "metadata": {
    "id": "1_OYY12eb3_q"
   },
   "source": [
    "#### Full model"
   ]
  },
  {
   "cell_type": "code",
   "execution_count": 12,
   "metadata": {
    "id": "JKDhXyt6b3_q"
   },
   "outputs": [],
   "source": [
    "def DDnet(C: Config) -> keras.Model:\n",
    "    \"\"\" Builds DDnet model for given configuration \"\"\"\n",
    "    \n",
    "    # Poses\n",
    "    P = Input(shape=(C.num_frames, C.num_points, C.dim_point, ))\n",
    "\n",
    "    # JCD\n",
    "    J = JCD(C.num_frames, C.dim_jcd)(P)\n",
    "    \n",
    "    # Pose Motion\n",
    "    M_fast = FastMotion(C.num_frames)(P)\n",
    "    M_slow = SlowMotion(C.num_frames)(P)\n",
    "    \n",
    "    print(\" Shapes of features \".center(35, '-'))\n",
    "    print(\"Input: \".ljust(15), P.shape)\n",
    "    print(\"JCD: \".ljust(15), J.shape)\n",
    "    print(\"Fast diff: \".ljust(15), M_fast.shape)\n",
    "    print(\"Slow diff: \".ljust(15), M_slow.shape)\n",
    "    \n",
    "    # Embeddings\n",
    "    eta_jcd = embed1(J, C.num_filters)\n",
    "    eta_slow = embed1(M_slow, C.num_filters)\n",
    "    eta_fast = embed2(M_fast, C.num_filters)\n",
    "    \n",
    "    # Concatenate\n",
    "    x = scale_tensor(concatenate([eta_jcd, eta_slow, eta_fast, ]))\n",
    "#     x = concatenate([eta_jcd, eta_slow, eta_fast, ])\n",
    "\n",
    "    # 2x Conv\n",
    "    x = c2x1D(x, C.num_filters * 2)\n",
    "    x = MaxPool1D(2)(x)\n",
    "    x = SpatialDropout1D(0.1)(x)\n",
    "    \n",
    "    x = c2x1D(x, C.num_filters * 4)\n",
    "    x = MaxPool1D(2)(x)\n",
    "    x = SpatialDropout1D(0.1)(x)\n",
    "\n",
    "    x = c2x1D(x, C.num_filters * 8)\n",
    "    x = SpatialDropout1D(0.1)(x)\n",
    "    \n",
    "    # GAP\n",
    "    x = GlobalMaxPooling1D()(x)\n",
    "\n",
    "    # Learning\n",
    "    x = d1D(x, 128)\n",
    "    x = Dropout(0.5)(x)\n",
    "    x = d1D(x, 128) # extra layer was in github repo\n",
    "    x = Dropout(0.5)(x)\n",
    "    \n",
    "    x = Dense(C.num_classes)(x)\n",
    "    x = Softmax()(x)\n",
    "    \n",
    "    return keras.Model(inputs=P, outputs=x, name='DDnet')"
   ]
  },
  {
   "cell_type": "markdown",
   "metadata": {
    "id": "ZveylzVhC82N"
   },
   "source": [
    "## Create Model"
   ]
  },
  {
   "cell_type": "code",
   "execution_count": 13,
   "metadata": {
    "colab": {
     "base_uri": "https://localhost:8080/"
    },
    "id": "KuOGYFmGEP79",
    "outputId": "ed73aec4-68ac-402e-ff7f-746df5683420"
   },
   "outputs": [
    {
     "name": "stdout",
     "output_type": "stream",
     "text": [
      "-------- Shapes of features -------\n",
      "Input:          (None, 30, 21, 3)\n",
      "JCD:            (None, 30, 210)\n",
      "Fast diff:      (None, 15, 63)\n",
      "Slow diff:      (None, 30, 63)\n",
      "(None, 15, 1)\n"
     ]
    }
   ],
   "source": [
    "C = Config()\n",
    "model = DDnet(C)"
   ]
  },
  {
   "cell_type": "code",
   "execution_count": 14,
   "metadata": {
    "colab": {
     "base_uri": "https://localhost:8080/"
    },
    "id": "DrNZO8e_b3_t",
    "outputId": "11f74171-7422-4b95-fae8-39841a1ba076"
   },
   "outputs": [
    {
     "data": {
      "text/plain": [
       "TensorShape([100, 14])"
      ]
     },
     "execution_count": 14,
     "metadata": {},
     "output_type": "execute_result"
    }
   ],
   "source": [
    "# Run a dummy input\n",
    "P = np.ones((100, 30, 21, 3))\n",
    "res = model(P)\n",
    "res.shape"
   ]
  },
  {
   "cell_type": "code",
   "execution_count": 15,
   "metadata": {
    "id": "wegDNvZfb3_v"
   },
   "outputs": [],
   "source": [
    "_DRAW = False\n",
    "\n",
    "if _DRAW:\n",
    "    keras.utils.plot_model(\n",
    "    model,\n",
    "    to_file=\"model.png\",\n",
    "    show_shapes=True,\n",
    "    show_dtype=False,\n",
    "    show_layer_names=True,\n",
    "    rankdir=\"TB\",\n",
    "    expand_nested=False,\n",
    "    dpi=96,\n",
    ")"
   ]
  },
  {
   "cell_type": "code",
   "execution_count": 16,
   "metadata": {
    "id": "LFdTVzJEb3_v"
   },
   "outputs": [],
   "source": [
    "_SUMMARY = False\n",
    "\n",
    "if _SUMMARY:\n",
    "    model.summary()"
   ]
  },
  {
   "cell_type": "markdown",
   "metadata": {
    "id": "b_KbjIlVb3_w"
   },
   "source": [
    "## Load data"
   ]
  },
  {
   "cell_type": "code",
   "execution_count": 17,
   "metadata": {
    "id": "u16tXsIjb3_x"
   },
   "outputs": [],
   "source": [
    "train = pickle.load(open(C.dir_data + 'train.pkl', 'rb'))\n",
    "test = pickle.load(open(C.dir_data + 'test.pkl', 'rb'))"
   ]
  },
  {
   "cell_type": "markdown",
   "metadata": {
    "id": "UV5PO1ijb3_0"
   },
   "source": [
    "#### Preprocessing"
   ]
  },
  {
   "cell_type": "code",
   "execution_count": 18,
   "metadata": {
    "id": "BQYcYpF_b3_1"
   },
   "outputs": [],
   "source": [
    "def zoom(p, C: Config, target_l=30):\n",
    "    \"\"\" Resize framerate to desired length \"\"\"\n",
    "    l = p.shape[0]\n",
    "    p_new = np.empty([target_l, C.num_points, C.dim_point]) \n",
    "    for m in range(C.num_points):\n",
    "        for n in range(C.dim_point):\n",
    "            p[:, m, n] = medfilt(p[:, m, n], 3)\n",
    "            p_new[:, m, n] = inter.zoom(p[:, m, n], target_l / l)[:target_l]\n",
    "    return p_new"
   ]
  },
  {
   "cell_type": "code",
   "execution_count": 19,
   "metadata": {
    "id": "BkWVMSl9b3_1"
   },
   "outputs": [],
   "source": [
    "def sampling_frame(p, C: Config):\n",
    "    \"\"\" I don't know what this does \"\"\"\n",
    "    full_l = p.shape[0] # full length\n",
    "    if random.uniform(0, 1) < 0.5: # aligment sampling\n",
    "        valid_l = np.round(np.random.uniform(0.9, 1) * full_l)\n",
    "        s = random.randint(0, full_l - int(valid_l))\n",
    "        e = s + valid_l # sample end point\n",
    "        p = p[int(s):int(e), :, :]    \n",
    "    else: # without aligment sampling\n",
    "        valid_l = np.round(np.random.uniform(0.9, 1) * full_l)\n",
    "        index = np.sort(np.random.choice(range(0, full_l), int(valid_l), replace=False))\n",
    "        p = p[index, :, :]\n",
    "    p = zoom(p, C)\n",
    "    return p"
   ]
  },
  {
   "cell_type": "code",
   "execution_count": 20,
   "metadata": {},
   "outputs": [],
   "source": [
    "def normalize_range(p):\n",
    "    # normolize to start point, use the center for hand case\n",
    "    p[:,:,0] = p[:,:,0]-np.mean(p[:,:,0])\n",
    "    p[:,:,1] = p[:,:,1]-np.mean(p[:,:,1])\n",
    "    p[:,:,2] = p[:,:,2]-np.mean(p[:,:,2])\n",
    "    return p"
   ]
  },
  {
   "cell_type": "code",
   "execution_count": 21,
   "metadata": {
    "colab": {
     "base_uri": "https://localhost:8080/"
    },
    "id": "ZvR5cfa_b3_2",
    "outputId": "f86d867e-a984-4ea7-fe49-5e912749a5cb"
   },
   "outputs": [
    {
     "name": "stderr",
     "output_type": "stream",
     "text": [
      "100%|██████████| 1960/1960 [00:15<00:00, 127.30it/s]\n",
      "100%|██████████| 840/840 [00:06<00:00, 124.13it/s]\n"
     ]
    }
   ],
   "source": [
    "_KEY_X = 'pose'\n",
    "_KEY_Y = 'coarse_label'\n",
    "\n",
    "X_train = list()\n",
    "Y_train = list()\n",
    "X_test = list()\n",
    "Y_test = list()\n",
    "\n",
    "for ds, X, Y in [ (train, X_train, Y_train), (test, X_test, Y_test) ]:\n",
    "    for idx in tqdm(range(len(ds[_KEY_X]))):\n",
    "        p = ds[_KEY_X][idx]\n",
    "        p = np.reshape(p, (-1, 21, 3))\n",
    "        p = zoom(p, C)\n",
    "        p = normalize_range(p)\n",
    "        \n",
    "        l = np.zeros(C.num_classes)\n",
    "        l[ds[_KEY_Y][idx] - 1] = 1\n",
    "        \n",
    "        X.append(p)\n",
    "        Y.append(l)\n",
    "\n",
    "X_train = np.stack(X_train)\n",
    "Y_train = np.stack(Y_train)\n",
    "X_test = np.stack(X_test)\n",
    "Y_test = np.stack(Y_test)"
   ]
  },
  {
   "cell_type": "code",
   "execution_count": 22,
   "metadata": {
    "colab": {
     "base_uri": "https://localhost:8080/"
    },
    "id": "0MZa5HqLb3_2",
    "outputId": "8f76cbdf-81c1-4118-d50e-f36e78cd4483"
   },
   "outputs": [
    {
     "name": "stdout",
     "output_type": "stream",
     "text": [
      "X_train:  (1960, 30, 21, 3)\n",
      "Y_train:  (1960, 14)\n",
      "X_test:  (840, 30, 21, 3)\n",
      "Y_test:  (840, 14)\n"
     ]
    }
   ],
   "source": [
    "print(\"X_train: \", X_train.shape)\n",
    "print(\"Y_train: \", Y_train.shape)\n",
    "print(\"X_test: \", X_test.shape)\n",
    "print(\"Y_test: \", Y_test.shape)"
   ]
  },
  {
   "cell_type": "code",
   "execution_count": 23,
   "metadata": {},
   "outputs": [
    {
     "name": "stdout",
     "output_type": "stream",
     "text": [
      "X_test:  (420, 30, 21, 3)\n",
      "X_validation:  (420, 30, 21, 3)\n",
      "Y_test:  (420, 14)\n",
      "Y_validation:  (420, 14)\n"
     ]
    }
   ],
   "source": [
    "X_validation = list()\n",
    "new_X_test = list()\n",
    "Y_validation = list()\n",
    "new_Y_test = list()\n",
    "\n",
    "for t in range(0, X_test.shape[0] - 1, 2):\n",
    "    X_validation.append(X_test[t])\n",
    "    new_X_test.append(X_test[t+1])\n",
    "\n",
    "for t in range(0, Y_test.shape[0] - 1, 2):\n",
    "    Y_validation.append(Y_test[t])\n",
    "    new_Y_test.append(Y_test[t+1])\n",
    "    \n",
    "X_test = np.array(new_X_test)\n",
    "X_validation = np.array(X_validation)\n",
    "Y_test = np.array(new_Y_test)\n",
    "Y_validation = np.array(Y_validation)\n",
    "\n",
    "print(\"X_test: \", X_test.shape)\n",
    "print(\"X_validation: \", X_validation.shape)\n",
    "print(\"Y_test: \", Y_test.shape)\n",
    "print(\"Y_validation: \", Y_validation.shape)"
   ]
  },
  {
   "cell_type": "markdown",
   "metadata": {
    "id": "xZSyuihqC90D"
   },
   "source": [
    "## Training"
   ]
  },
  {
   "cell_type": "markdown",
   "metadata": {
    "id": "qrbZ-kXdb3_u"
   },
   "source": [
    "#### Compile model"
   ]
  },
  {
   "cell_type": "code",
   "execution_count": 24,
   "metadata": {
    "id": "lO6MS7aZb3_u"
   },
   "outputs": [],
   "source": [
    "lr = 1e-3\n",
    "min_lr = 1e-5\n",
    "optim = keras.optimizers.Adam(lr)\n",
    "loss = keras.losses.categorical_crossentropy\n",
    "metrics = [ 'accuracy' ]"
   ]
  },
  {
   "cell_type": "code",
   "execution_count": 25,
   "metadata": {
    "id": "k_QwrcbLb3_v"
   },
   "outputs": [],
   "source": [
    "model.compile(optim, loss, metrics)"
   ]
  },
  {
   "cell_type": "markdown",
   "metadata": {
    "id": "KlEIWQqcb3_3"
   },
   "source": [
    "#### Callbacks"
   ]
  },
  {
   "cell_type": "code",
   "execution_count": 26,
   "metadata": {
    "id": "wIyci77pb3_4"
   },
   "outputs": [],
   "source": [
    "lr_scheduler = keras.callbacks.ReduceLROnPlateau(\n",
    "    monitor='loss',\n",
    "    factor=0.5,\n",
    "    patience=5,\n",
    "    cooldown=5,\n",
    "    min_lr=min_lr,\n",
    ")"
   ]
  },
  {
   "cell_type": "code",
   "execution_count": 27,
   "metadata": {
    "id": "uQ7gfWG2b3_4"
   },
   "outputs": [],
   "source": [
    "tb_callback = keras.callbacks.TensorBoard(\n",
    "    log_dir=\"./logs/\",\n",
    "    histogram_freq=0,\n",
    "    write_graph=True,\n",
    "    write_images=False,\n",
    "    update_freq=\"epoch\",\n",
    "    profile_batch=2,\n",
    "    embeddings_freq=0,\n",
    "    embeddings_metadata=None,\n",
    ")"
   ]
  },
  {
   "cell_type": "code",
   "execution_count": 28,
   "metadata": {
    "id": "at4BehH4gFUU"
   },
   "outputs": [],
   "source": [
    "early_stopping = keras.callbacks.EarlyStopping(patience=10, restore_best_weights=True)"
   ]
  },
  {
   "cell_type": "markdown",
   "metadata": {
    "id": "cba1rrgob3_5"
   },
   "source": [
    "#### Fitting"
   ]
  },
  {
   "cell_type": "code",
   "execution_count": 29,
   "metadata": {
    "colab": {
     "base_uri": "https://localhost:8080/"
    },
    "id": "tIUBNYCHb3_6",
    "outputId": "576cd84c-1955-4c18-d8a7-adc139c87645"
   },
   "outputs": [
    {
     "name": "stdout",
     "output_type": "stream",
     "text": [
      "Epoch 1/400\n",
      "62/62 [==============================] - 18s 206ms/step - loss: 2.6194 - accuracy: 0.2001 - val_loss: 3.4136 - val_accuracy: 0.1214\n",
      "Epoch 2/400\n",
      "62/62 [==============================] - 11s 184ms/step - loss: 1.2088 - accuracy: 0.6243 - val_loss: 5.5771 - val_accuracy: 0.0714\n",
      "Epoch 3/400\n",
      "62/62 [==============================] - 10s 167ms/step - loss: 0.7567 - accuracy: 0.7896 - val_loss: 3.8163 - val_accuracy: 0.1238\n",
      "Epoch 4/400\n",
      "62/62 [==============================] - 14s 226ms/step - loss: 0.5283 - accuracy: 0.8621 - val_loss: 4.4801 - val_accuracy: 0.1381\n",
      "Epoch 5/400\n",
      "62/62 [==============================] - 10s 164ms/step - loss: 0.5255 - accuracy: 0.8519 - val_loss: 2.5822 - val_accuracy: 0.3643\n",
      "Epoch 6/400\n",
      "62/62 [==============================] - 10s 160ms/step - loss: 0.4141 - accuracy: 0.8837 - val_loss: 1.4817 - val_accuracy: 0.6310\n",
      "Epoch 7/400\n",
      "62/62 [==============================] - 12s 201ms/step - loss: 0.3476 - accuracy: 0.9043 - val_loss: 0.8428 - val_accuracy: 0.7571\n",
      "Epoch 8/400\n",
      "62/62 [==============================] - 10s 169ms/step - loss: 0.3619 - accuracy: 0.9064 - val_loss: 0.3566 - val_accuracy: 0.8833\n",
      "Epoch 9/400\n",
      "62/62 [==============================] - 11s 181ms/step - loss: 0.2893 - accuracy: 0.9253 - val_loss: 0.3657 - val_accuracy: 0.8952\n",
      "Epoch 10/400\n",
      "62/62 [==============================] - 10s 161ms/step - loss: 0.3143 - accuracy: 0.9146 - val_loss: 0.3714 - val_accuracy: 0.8833\n",
      "Epoch 11/400\n",
      "62/62 [==============================] - 10s 159ms/step - loss: 0.2455 - accuracy: 0.9440 - val_loss: 0.2200 - val_accuracy: 0.9310\n",
      "Epoch 12/400\n",
      "62/62 [==============================] - 10s 162ms/step - loss: 0.2116 - accuracy: 0.9453 - val_loss: 0.2045 - val_accuracy: 0.9452\n",
      "Epoch 13/400\n",
      "62/62 [==============================] - 13s 205ms/step - loss: 0.1849 - accuracy: 0.9521 - val_loss: 0.2477 - val_accuracy: 0.9357\n",
      "Epoch 14/400\n",
      "62/62 [==============================] - 10s 167ms/step - loss: 0.1462 - accuracy: 0.9597 - val_loss: 0.3352 - val_accuracy: 0.9095\n",
      "Epoch 15/400\n",
      "62/62 [==============================] - 13s 203ms/step - loss: 0.1974 - accuracy: 0.9562 - val_loss: 0.2163 - val_accuracy: 0.9476\n",
      "Epoch 16/400\n",
      "62/62 [==============================] - 12s 190ms/step - loss: 0.1517 - accuracy: 0.9625 - val_loss: 0.1955 - val_accuracy: 0.9524\n",
      "Epoch 17/400\n",
      "62/62 [==============================] - 11s 185ms/step - loss: 0.1537 - accuracy: 0.9569 - val_loss: 0.3435 - val_accuracy: 0.9190\n",
      "Epoch 18/400\n",
      "62/62 [==============================] - 10s 162ms/step - loss: 0.1613 - accuracy: 0.9555 - val_loss: 0.2351 - val_accuracy: 0.9333\n",
      "Epoch 19/400\n",
      "62/62 [==============================] - 10s 164ms/step - loss: 0.1789 - accuracy: 0.9595 - val_loss: 0.2763 - val_accuracy: 0.9333\n",
      "Epoch 20/400\n",
      "62/62 [==============================] - 10s 164ms/step - loss: 0.1513 - accuracy: 0.9625 - val_loss: 0.1813 - val_accuracy: 0.9500\n",
      "Epoch 21/400\n",
      "62/62 [==============================] - 10s 166ms/step - loss: 0.2194 - accuracy: 0.9330 - val_loss: 0.3502 - val_accuracy: 0.8976\n",
      "Epoch 22/400\n",
      "62/62 [==============================] - 10s 166ms/step - loss: 0.1147 - accuracy: 0.9719 - val_loss: 0.2402 - val_accuracy: 0.9429\n",
      "Epoch 23/400\n",
      "62/62 [==============================] - 13s 214ms/step - loss: 0.0889 - accuracy: 0.9759 - val_loss: 0.1927 - val_accuracy: 0.9548\n",
      "Epoch 24/400\n",
      "62/62 [==============================] - 29s 468ms/step - loss: 0.0838 - accuracy: 0.9784 - val_loss: 0.1839 - val_accuracy: 0.9452\n",
      "Epoch 25/400\n",
      "62/62 [==============================] - 28s 448ms/step - loss: 0.0810 - accuracy: 0.9833 - val_loss: 0.2302 - val_accuracy: 0.9357\n",
      "Epoch 26/400\n",
      "62/62 [==============================] - 30s 491ms/step - loss: 0.0831 - accuracy: 0.9792 - val_loss: 0.2083 - val_accuracy: 0.9548\n",
      "Epoch 27/400\n",
      "62/62 [==============================] - 30s 479ms/step - loss: 0.0696 - accuracy: 0.9837 - val_loss: 0.2268 - val_accuracy: 0.9429\n",
      "Epoch 28/400\n",
      "62/62 [==============================] - 32s 509ms/step - loss: 0.0670 - accuracy: 0.9855 - val_loss: 0.2385 - val_accuracy: 0.9405\n",
      "Epoch 29/400\n",
      "62/62 [==============================] - 31s 500ms/step - loss: 0.1299 - accuracy: 0.9670 - val_loss: 0.2029 - val_accuracy: 0.9548\n",
      "Epoch 30/400\n",
      "62/62 [==============================] - 31s 499ms/step - loss: 0.0662 - accuracy: 0.9839 - val_loss: 0.1833 - val_accuracy: 0.9571\n"
     ]
    }
   ],
   "source": [
    "history = model.fit(\n",
    "    X_train, Y_train,\n",
    "    batch_size=32,\n",
    "    epochs=400,\n",
    "    verbose=True,\n",
    "    shuffle=True,\n",
    "    callbacks=[ lr_scheduler, tb_callback, early_stopping, ],\n",
    "    validation_data=(X_validation, Y_validation)\n",
    ")"
   ]
  },
  {
   "cell_type": "code",
   "execution_count": 30,
   "metadata": {
    "colab": {
     "base_uri": "https://localhost:8080/"
    },
    "id": "seiYm73ofGrK",
    "outputId": "c48190da-6f63-4156-8e2d-f8bcb3feba68"
   },
   "outputs": [
    {
     "name": "stdout",
     "output_type": "stream",
     "text": [
      "INFO:tensorflow:Assets written to: ./model/assets\n"
     ]
    }
   ],
   "source": [
    "model.save(C.dir_save)"
   ]
  },
  {
   "cell_type": "markdown",
   "metadata": {
    "id": "aNe-allRqy2C"
   },
   "source": [
    "## Evaluate"
   ]
  },
  {
   "cell_type": "code",
   "execution_count": 31,
   "metadata": {
    "id": "PYGc0fzXtB96"
   },
   "outputs": [],
   "source": [
    "labels = [ \"Grab\",\n",
    "    \"Tap\",\n",
    "    \"Expand\",\n",
    "    \"Pinch\",\n",
    "    \"Rotate Clockwise\",\n",
    "    \"Rotate Counter Clockwise\",\n",
    "    \"Swipe Right\",\n",
    "    \"Swipe Left\",\n",
    "    \"Swipe Up\",\n",
    "    \"Swipe Down\",\n",
    "    \"Swipe X\",\n",
    "    \"Swipe +\",\n",
    "    \"Swipe V\",\n",
    "    \"Shake\",]\n",
    "\n",
    "# labels = [\n",
    "#     \"Grab(1)\",\n",
    "#     \"Grab(2)\",\n",
    "#     \"Tap(1)\",\n",
    "#     \"Tap(2)\",\n",
    "#     \"Expand(1)\",\n",
    "#     \"Expand(2)\",\n",
    "#     \"Pinch(1)\",\n",
    "#     \"Pinch(2)\",\n",
    "#     \"Rotate Clockwise(1)\",\n",
    "#     \"Rotate Clockwise(2)\",\n",
    "#     \"Rotate Counter Clockwise(1)\",\n",
    "#     \"Rotate Counter Clockwise(2)\",\n",
    "#     \"Swipe Right(1)\",\n",
    "#     \"Swipe Right(2)\",\n",
    "#     \"Swipe Left(1)\",\n",
    "#     \"Swipe Left(2)\",\n",
    "#     \"Swipe Up(1)\",\n",
    "#     \"Swipe Up(2)\",\n",
    "#     \"Swipe Down(1)\",\n",
    "#     \"Swipe Down(2)\",\n",
    "#     \"Swipe X(1)\",\n",
    "#     \"Swipe X(2)\",\n",
    "#     \"Swipe +(1)\",\n",
    "#     \"Swipe +(2)\",\n",
    "#     \"Swipe V(1)\",\n",
    "#     \"Swipe V(2)\",\n",
    "#     \"Shake(1)\",\n",
    "#     \"Shake(2)\",\n",
    "# ]\n"
   ]
  },
  {
   "cell_type": "code",
   "execution_count": 32,
   "metadata": {
    "id": "qDTMtbZitW3q"
   },
   "outputs": [],
   "source": [
    "Y_pred = model.predict(X_test)\n",
    "\n",
    "y_true = []\n",
    "for i in np.argmax(Y_test,axis=1):\n",
    "    y_true.append(labels[i])\n",
    "    \n",
    "y_pred = []\n",
    "for i in np.argmax(Y_pred,axis=1):\n",
    "    y_pred.append(labels[i])"
   ]
  },
  {
   "cell_type": "code",
   "execution_count": 33,
   "metadata": {},
   "outputs": [
    {
     "name": "stdout",
     "output_type": "stream",
     "text": [
      " Accuracy ---> (0.9595)\n"
     ]
    }
   ],
   "source": [
    "from sklearn import metrics\n",
    "print(\" Accuracy ---> ({0:.4f})\".format(metrics.accuracy_score(y_true, y_pred)))"
   ]
  },
  {
   "cell_type": "code",
   "execution_count": 34,
   "metadata": {
    "id": "Iq1x9bzVvCtC"
   },
   "outputs": [],
   "source": [
    "from sklearn.metrics import confusion_matrix\n",
    "from matplotlib import pyplot as plt\n",
    "import seaborn as sns\n",
    "\n",
    "def cm_analysis(y_true, y_pred, labels, ymap=None, figsize=(8,8)):\n",
    "    \"\"\"\n",
    "    Generate matrix plot of confusion matrix with pretty annotations.\n",
    "    The plot image is saved to disk.\n",
    "    args: \n",
    "      y_true:    true label of the data, with shape (nsamples,)\n",
    "      y_pred:    prediction of the data, with shape (nsamples,)\n",
    "      labels:    string array, name the order of class labels in the confusion matrix.\n",
    "                 use `clf.classes_` if using scikit-learn models.\n",
    "                 with shape (nclass,).\n",
    "      ymap:      dict: any -> string, length == nclass.\n",
    "                 if not None, map the labels & ys to more understandable strings.\n",
    "                 Caution: original y_true, y_pred and labels must align.\n",
    "      figsize:   the size of the figure plotted.\n",
    "    \"\"\"\n",
    "    if ymap is not None:\n",
    "        y_pred = [ymap[yi] for yi in y_pred]\n",
    "        y_true = [ymap[yi] for yi in y_true]\n",
    "        labels = [ymap[yi] for yi in labels]\n",
    "    cm = confusion_matrix(y_true, y_pred, labels=labels)\n",
    "    cm_sum = np.sum(cm, axis=1, keepdims=True)\n",
    "    cm_perc = cm / cm_sum.astype(float) * 100\n",
    "    annot = np.empty_like(cm).astype(str)\n",
    "    nrows, ncols = cm.shape\n",
    "    for i in range(nrows):\n",
    "        for j in range(ncols):\n",
    "            c = cm[i, j]\n",
    "            p = cm_perc[i, j]\n",
    "            if i == j:\n",
    "                s = cm_sum[i]\n",
    "                #annot[i, j] = '%.1f%%\\n%d/%d' % (p, c, s)\n",
    "                annot[i, j] = '%.1f' % (p)\n",
    "            elif c == 0:\n",
    "                annot[i, j] = ''\n",
    "            else:\n",
    "                #annot[i, j] = '%.1f%%\\n%d' % (p, c)\n",
    "                annot[i, j] = '%.1f' % (p)\n",
    "    cm = pd.DataFrame(cm, index=labels, columns=labels)\n",
    "    cm.index.name = 'Actual'\n",
    "    cm.columns.name = 'Predicted'\n",
    "    fig, ax = plt.subplots(figsize=figsize)\n",
    "    sns.heatmap(cm, annot=annot, fmt='', ax=ax, cbar=False, cmap=\"YlGnBu\")\n"
   ]
  },
  {
   "cell_type": "code",
   "execution_count": 35,
   "metadata": {
    "colab": {
     "base_uri": "https://localhost:8080/",
     "height": 756
    },
    "id": "nzpB4BmIvbrf",
    "outputId": "4dcd3d8a-0ac0-42d7-82a1-a8e8986d75c3"
   },
   "outputs": [
    {
     "data": {
      "image/png": "[encoded data removed]",
      "text/plain": [
       "<Figure size 936x936 with 1 Axes>"
      ]
     },
     "metadata": {
      "needs_background": "light"
     },
     "output_type": "display_data"
    }
   ],
   "source": [
    "cm_analysis(y_true, y_pred, labels, ymap=None, figsize=(13,13))"
   ]
  },
  {
   "cell_type": "markdown",
   "metadata": {
    "id": "4liH4OPe0lhq"
   },
   "source": [
    "## Colab"
   ]
  },
  {
   "cell_type": "markdown",
   "metadata": {
    "id": "xIA7vF0-_GVm"
   },
   "source": [
    "#### Data"
   ]
  },
  {
   "cell_type": "code",
   "execution_count": null,
   "metadata": {
    "colab": {
     "base_uri": "https://localhost:8080/"
    },
    "id": "kIYN57IA_Hc9",
    "outputId": "4b80d0fd-0357-4c04-830c-66187ec971b2"
   },
   "outputs": [],
   "source": [
    "!rm -rf ./sample_data\n",
    "!mkdir ./data/\n",
    "!gdown --id 1C2FsR99wzwBKaM-qSyVFAISMMkHnmRid -O ./data/test.pkl\n",
    "!gdown --id 1LtWk9mrsF_iR-YJ8FQP8uXNstQNqke9d -O ./data/train.pkl"
   ]
  },
  {
   "cell_type": "markdown",
   "metadata": {
    "id": "bI8JxZqX-vfP"
   },
   "source": [
    "#### For downloading model and logs"
   ]
  },
  {
   "cell_type": "code",
   "execution_count": null,
   "metadata": {
    "colab": {
     "base_uri": "https://localhost:8080/"
    },
    "id": "rUT9387r-s8C",
    "outputId": "72028f93-6fcc-4ccb-c498-464508523d23"
   },
   "outputs": [],
   "source": [
    "!zip -r model.zip ./model/"
   ]
  },
  {
   "cell_type": "code",
   "execution_count": null,
   "metadata": {
    "colab": {
     "base_uri": "https://localhost:8080/"
    },
    "id": "NvQUhnc--7-F",
    "outputId": "a40dde38-214e-4a01-f057-e6012b8b0a4a"
   },
   "outputs": [],
   "source": [
    "!zip -r logs.zip ./logs/"
   ]
  },
  {
   "cell_type": "markdown",
   "metadata": {
    "id": "RN_S6VlJ-tYE"
   },
   "source": [
    "#### Tensorboard"
   ]
  },
  {
   "cell_type": "code",
   "execution_count": null,
   "metadata": {
    "id": "05rR9W9ri6R0"
   },
   "outputs": [],
   "source": [
    "%load_ext tensorboard"
   ]
  },
  {
   "cell_type": "code",
   "execution_count": null,
   "metadata": {
    "id": "qsjppVCcjFKj"
   },
   "outputs": [],
   "source": [
    "%tensorboard --logdir logs"
   ]
  }
 ],
 "metadata": {
  "colab": {
   "name": "ddnet.ipynb",
   "provenance": [],
   "toc_visible": true
  },
  "kernelspec": {
   "display_name": "anton",
   "language": "python",
   "name": "anton"
  },
  "language_info": {
   "codemirror_mode": {
    "name": "ipython",
    "version": 3
   },
   "file_extension": ".py",
   "mimetype": "text/x-python",
   "name": "python",
   "nbconvert_exporter": "python",
   "pygments_lexer": "ipython3",
   "version": "3.7.9"
  }
 },
 "nbformat": 4,
 "nbformat_minor": 4
}
