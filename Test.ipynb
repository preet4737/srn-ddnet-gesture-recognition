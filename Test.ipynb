{
 "cells": [
  {
   "cell_type": "code",
   "execution_count": 1,
   "metadata": {},
   "outputs": [],
   "source": [
    "from srn import HandPose\n",
    "from srn.config import config\n",
    "import numpy as np\n",
    "import pickle\n",
    "from tqdm import tqdm\n",
    "from dataclasses import dataclass\n",
    "from scipy.signal import medfilt\n",
    "from scipy.ndimage import interpolation as inter\n",
    "from ddnet import Predictor\n",
    "import random"
   ]
  },
  {
   "cell_type": "code",
   "execution_count": 2,
   "metadata": {},
   "outputs": [],
   "source": [
    "@dataclass\n",
    "class Config:\n",
    "    num_frames = 30\n",
    "    num_points = 21\n",
    "    dim_point = 3\n",
    "    dim_jcd = 210\n",
    "    num_classes = 14\n",
    "    num_filters = 64\n",
    "    dir_data = './data/'\n",
    "    \n",
    "C = Config()"
   ]
  },
  {
   "cell_type": "code",
   "execution_count": 3,
   "metadata": {},
   "outputs": [],
   "source": [
    "# labels = [\n",
    "#     \"Grab(1)\",\n",
    "#     \"Grab(2)\",\n",
    "#     \"Tap(1)\",\n",
    "#     \"Tap(2)\",\n",
    "#     \"Expand(1)\",\n",
    "#     \"Expand(2)\",\n",
    "#     \"Pinch(1)\",\n",
    "#     \"Pinch(2)\",\n",
    "#     \"Rotate Clockwise(1)\",\n",
    "#     \"Rotate Clockwise(2)\",\n",
    "#     \"Rotate Counter Clockwise(1)\",\n",
    "#     \"Rotate Counter Clockwise(2)\",\n",
    "#     \"Swipe Right(1)\",\n",
    "#     \"Swipe Right(2)\",\n",
    "#     \"Swipe Left(1)\",\n",
    "#     \"Swipe Left(2)\",\n",
    "#     \"Swipe Up(1)\",\n",
    "#     \"Swipe Up(2)\",\n",
    "#     \"Swipe Down(1)\",\n",
    "#     \"Swipe Down(2)\",\n",
    "#     \"Swipe X(1)\",\n",
    "#     \"Swipe X(2)\",\n",
    "#     \"Swipe +(1)\",\n",
    "#     \"Swipe +(2)\",\n",
    "#     \"Swipe V(1)\",\n",
    "#     \"Swipe V(2)\",\n",
    "#     \"Shake(1)\",\n",
    "#     \"Shake(2)\",\n",
    "# ]\n",
    "\n",
    "labels = [\n",
    "    \"Grab\",\n",
    "    \"Tap\",\n",
    "    \"Expand\",\n",
    "    \"Pinch\",\n",
    "    \"Rotate Clockwise\",\n",
    "    \"Rotate Counter Clockwise\",\n",
    "    \"Swipe Right\",\n",
    "    \"Swipe Left\",\n",
    "    \"Swipe Up\",\n",
    "    \"Swipe Down\",\n",
    "    \"Swipe X\",\n",
    "    \"Swipe +\",\n",
    "    \"Swipe V\",\n",
    "    \"Shake\",\n",
    "]"
   ]
  },
  {
   "cell_type": "code",
   "execution_count": 4,
   "metadata": {},
   "outputs": [],
   "source": [
    "def zoom(p, C: Config, target_l=30):\n",
    "    \"\"\" Resize framerate to desired length \"\"\"\n",
    "    l = p.shape[0]\n",
    "    p_new = np.empty([target_l, C.num_points, C.dim_point]) \n",
    "    for m in range(C.num_points):\n",
    "        for n in range(C.dim_point):\n",
    "            p[:, m, n] = medfilt(p[:, m, n], 3)\n",
    "            p_new[:, m, n] = inter.zoom(p[:, m, n], target_l / l)[:target_l]\n",
    "    return p_new"
   ]
  },
  {
   "cell_type": "code",
   "execution_count": 5,
   "metadata": {},
   "outputs": [],
   "source": [
    "test = pickle.load(open('./notebooks/data/test.pkl', 'rb'))"
   ]
  },
  {
   "cell_type": "code",
   "execution_count": 6,
   "metadata": {},
   "outputs": [
    {
     "name": "stderr",
     "output_type": "stream",
     "text": [
      "100%|██████████| 840/840 [00:06<00:00, 126.22it/s]\n"
     ]
    },
    {
     "data": {
      "text/plain": [
       "(840, 14)"
      ]
     },
     "execution_count": 6,
     "metadata": {},
     "output_type": "execute_result"
    }
   ],
   "source": [
    "_KEY_X = 'pose'\n",
    "_KEY_Y = 'coarse_label'\n",
    "# 'fine_label' == 28 gestures\n",
    "# 'coarse_label' == 14 gestures\n",
    "X_test = list()\n",
    "Y_test = list()\n",
    "\n",
    "for ds, X, Y in [(test, X_test, Y_test),]:\n",
    "    for idx in tqdm(range(len(ds[_KEY_X]))):\n",
    "        p = ds[_KEY_X][idx]\n",
    "        p = np.reshape(p, (-1, 21, 3))\n",
    "        p = zoom(p, C)\n",
    "        \n",
    "        l = np.zeros(C.num_classes)\n",
    "        l[ds[_KEY_Y][idx] - 1] = 1\n",
    "        \n",
    "        X.append(p)\n",
    "        Y.append(l)\n",
    "\n",
    "X_test = np.stack(X_test)\n",
    "Y_test = np.stack(Y_test)\n",
    "\n",
    "Y_test.shape"
   ]
  },
  {
   "cell_type": "code",
   "execution_count": 7,
   "metadata": {},
   "outputs": [
    {
     "data": {
      "text/plain": [
       "array([1., 0., 0., 0., 0., 0., 0., 0., 0., 0., 0., 0., 0., 0.])"
      ]
     },
     "execution_count": 7,
     "metadata": {},
     "output_type": "execute_result"
    }
   ],
   "source": [
    "Y_test[0]"
   ]
  },
  {
   "cell_type": "code",
   "execution_count": 24,
   "metadata": {},
   "outputs": [],
   "source": [
    "def zoom(p: np.array, target_l=30):\n",
    "    \"\"\" Resize framerate to desired length \"\"\"\n",
    "    l = p.shape[0]\n",
    "    p_new = np.empty([target_l, 21, 3])\n",
    "    for m in range(21):\n",
    "        for n in range(3):\n",
    "            p[:, m, n] = medfilt(p[:, m, n], 3)\n",
    "            p_new[:, m, n] = inter.zoom(p[:, m, n], target_l / l)[:target_l]\n",
    "    return p_new\n",
    "\n",
    "def sampling_frame(p: list):\n",
    "    \"\"\" I don't know what this does \"\"\"\n",
    "    p = np.array(p)\n",
    "    p = np.reshape(p, (-1, 21, 3))\n",
    "    full_l = p.shape[0]  # full length\n",
    "    if random.uniform(0, 1) < 0.5:  # aligment sampling\n",
    "        valid_l = np.round(np.random.uniform(0.9, 1) * full_l)\n",
    "        s = random.randint(0, full_l - int(valid_l))\n",
    "        e = s + valid_l  # sample end point\n",
    "        p = p[int(s) : int(e), :, :]\n",
    "    else:  # without aligment sampling\n",
    "        valid_l = np.round(np.random.uniform(0.9, 1) * full_l)\n",
    "        index = np.sort(np.random.choice(range(0, full_l), int(valid_l), replace=False))\n",
    "        p = p[index, :, :]\n",
    "    p = zoom(p)\n",
    "    return p"
   ]
  },
  {
   "cell_type": "code",
   "execution_count": 9,
   "metadata": {},
   "outputs": [],
   "source": [
    "pose_predictor = HandPose(config)\n",
    "gesture_recognizer = Predictor()"
   ]
  },
  {
   "cell_type": "markdown",
   "metadata": {},
   "source": [
    "## Prediction Pipeline"
   ]
  },
  {
   "cell_type": "code",
   "execution_count": 10,
   "metadata": {},
   "outputs": [],
   "source": [
    "# root_dir = '/media/dexter/7786037C0F8CEE68/BE_Research/DHG/'\n",
    "# test_list = np.loadtxt( root_dir + 'test_gestures.txt').astype('int16')\n",
    "\n",
    "# Y_pred = list()\n",
    "# pose_pred = list()\n",
    "\n",
    "# for i in tqdm(range(len(test_list))):\n",
    "#     idx_gesture = test_list[i][0]\n",
    "#     idx_finger = test_list[i][1]\n",
    "#     idx_subject = test_list[i][2]\n",
    "#     idx_essai = test_list[i][3]\n",
    "#     coarse_label = test_list[i][4]\n",
    "#     fine_label = test_list[i][5]\n",
    "#     number_of_frames = test_list[i][6]\n",
    "#     skeleton_path = root_dir + 'gesture_' + str(idx_gesture) + '/finger_' \\\n",
    "#                 + str(idx_finger) + '/subject_' + str(idx_subject) + '/essai_' + str(idx_essai)+'/'\n",
    "    \n",
    "    \n",
    "#     poses = pose_predictor.run(skeleton_path)\n",
    "#     filename = skeleton_path + 'predicted_skeleton_world.txt'\n",
    "#     file = open(filename, 'w')\n",
    "    \n",
    "#     for idx in range(poses.shape[0]):\n",
    "#         np.savetxt(file, poses[idx].reshape(1, -1), fmt='%.3f')\n",
    "    \n",
    "#     pose_pred.append(poses)\n",
    "#     model_input = sampling_frame(poses)\n",
    "#     label = gesture_recognizer.predict(model_input)\n",
    "#     Y_pred.append(label)"
   ]
  },
  {
   "cell_type": "markdown",
   "metadata": {},
   "source": [
    "## Prediction from prediction_skeleton_world.txt"
   ]
  },
  {
   "cell_type": "code",
   "execution_count": 28,
   "metadata": {},
   "outputs": [
    {
     "name": "stderr",
     "output_type": "stream",
     "text": [
      "100%|██████████| 840/840 [00:40<00:00, 20.79it/s]\n"
     ]
    }
   ],
   "source": [
    "root_dir = '/media/dexter/7786037C0F8CEE68/BE_Research/DHG/'\n",
    "test_list = np.loadtxt( root_dir + 'test_gestures.txt').astype('int16')\n",
    "sav_dir = '/media/dexter/7786037C0F8CEE68/BE_Research/HandGestureDataset_SHREC2017/'\n",
    "\n",
    "Y_pred = list()\n",
    "pose_pred = list()\n",
    "\n",
    "for i in tqdm(range(len(test_list))):\n",
    "    idx_gesture = test_list[i][0]\n",
    "    idx_finger = test_list[i][1]\n",
    "    idx_subject = test_list[i][2]\n",
    "    idx_essai = test_list[i][3]\n",
    "    coarse_label = test_list[i][4]\n",
    "    fine_label = test_list[i][5]\n",
    "    number_of_frames = test_list[i][6]\n",
    "    \n",
    "    skeleton_path = root_dir + 'gesture_' + str(idx_gesture) + '/finger_' \\\n",
    "                + str(idx_finger) + '/subject_' + str(idx_subject) + '/essai_' + str(idx_essai)+'/'\n",
    "    \n",
    "    poses = np.loadtxt(skeleton_path + 'predicted_skeleton_world.txt').astype('float32')\n",
    "    poses = poses.reshape(number_of_frames, 21, 3)\n",
    "    \n",
    "#     file_dir = sav_dir  + 'gesture_' + str(idx_gesture) + '/finger_' \\\n",
    "#                 + str(idx_finger) + '/subject_' + str(idx_subject) + '/essai_' + str(idx_essai)+'/'\n",
    "    \n",
    "#     filename = file_dir + 'predicted_skeleton_world.txt'\n",
    "#     file = open(filename, 'w')\n",
    "#     for idx in range(number_of_frames):\n",
    "#         np.savetxt(file, poses[idx].reshape(1, -1), fmt='%.3f')\n",
    "    model_input = sampling_frame(poses)\n",
    "    label = gesture_recognizer.predict(model_input)\n",
    "    Y_pred.append(label)"
   ]
  },
  {
   "cell_type": "markdown",
   "metadata": {},
   "source": [
    "## Saving prediction_skeleton_world.txt"
   ]
  },
  {
   "cell_type": "code",
   "execution_count": 29,
   "metadata": {},
   "outputs": [],
   "source": [
    "Y_true = []\n",
    "for i in np.argmax(Y_test,axis=1):\n",
    "    Y_true.append(labels[i])"
   ]
  },
  {
   "cell_type": "code",
   "execution_count": 30,
   "metadata": {},
   "outputs": [
    {
     "name": "stdout",
     "output_type": "stream",
     "text": [
      " Accuracy ---> (0.8690)\n"
     ]
    }
   ],
   "source": [
    "from sklearn import metrics\n",
    "print(\" Accuracy ---> ({0:.4f})\".format(metrics.accuracy_score(Y_true, Y_pred)))"
   ]
  },
  {
   "cell_type": "code",
   "execution_count": 31,
   "metadata": {},
   "outputs": [],
   "source": [
    "from sklearn.metrics import confusion_matrix\n",
    "from matplotlib import pyplot as plt\n",
    "import seaborn as sns\n",
    "import pandas as pd\n",
    "\n",
    "def cm_analysis(y_true, y_pred, labels, ymap=None, figsize=(8,8)):\n",
    "    \"\"\"\n",
    "    Generate matrix plot of confusion matrix with pretty annotations.\n",
    "    The plot image is saved to disk.\n",
    "    args: \n",
    "      y_true:    true label of the data, with shape (nsamples,)\n",
    "      y_pred:    prediction of the data, with shape (nsamples,)\n",
    "      labels:    string array, name the order of class labels in the confusion matrix.\n",
    "                 use `clf.classes_` if using scikit-learn models.\n",
    "                 with shape (nclass,).\n",
    "      ymap:      dict: any -> string, length == nclass.\n",
    "                 if not None, map the labels & ys to more understandable strings.\n",
    "                 Caution: original y_true, y_pred and labels must align.\n",
    "      figsize:   the size of the figure plotted.\n",
    "    \"\"\"\n",
    "    if ymap is not None:\n",
    "        y_pred = [ymap[yi] for yi in y_pred]\n",
    "        y_true = [ymap[yi] for yi in y_true]\n",
    "        labels = [ymap[yi] for yi in labels]\n",
    "    cm = confusion_matrix(y_true, y_pred, labels=labels)\n",
    "    cm_sum = np.sum(cm, axis=1, keepdims=True)\n",
    "    cm_perc = cm / cm_sum.astype(float) * 100\n",
    "    annot = np.empty_like(cm).astype(str)\n",
    "    nrows, ncols = cm.shape\n",
    "    for i in range(nrows):\n",
    "        for j in range(ncols):\n",
    "            c = cm[i, j]\n",
    "            p = cm_perc[i, j]\n",
    "            if i == j:\n",
    "                s = cm_sum[i]\n",
    "                #annot[i, j] = '%.1f%%\\n%d/%d' % (p, c, s)\n",
    "                annot[i, j] = '%.1f' % (p)\n",
    "            elif c == 0:\n",
    "                annot[i, j] = ''\n",
    "            else:\n",
    "                #annot[i, j] = '%.1f%%\\n%d' % (p, c)\n",
    "                annot[i, j] = '%.1f' % (p)\n",
    "    cm = pd.DataFrame(cm, index=labels, columns=labels)\n",
    "    cm.index.name = 'Actual'\n",
    "    cm.columns.name = 'Predicted'\n",
    "    fig, ax = plt.subplots(figsize=figsize)\n",
    "    sns.heatmap(cm, annot=annot, fmt='', ax=ax, cbar=False, cmap=\"YlGnBu\")\n"
   ]
  },
  {
   "cell_type": "code",
   "execution_count": 32,
   "metadata": {},
   "outputs": [
    {
     "data": {
      "image/png": "[encoded data removed]",
      "text/plain": [
       "<Figure size 576x576 with 1 Axes>"
      ]
     },
     "metadata": {
      "needs_background": "light"
     },
     "output_type": "display_data"
    }
   ],
   "source": [
    "cm_analysis(Y_true, Y_pred, labels, ymap=None, figsize=(8,8))"
   ]
  }
 ],
 "metadata": {
  "kernelspec": {
   "display_name": "anton",
   "language": "python",
   "name": "anton"
  },
  "language_info": {
   "codemirror_mode": {
    "name": "ipython",
    "version": 3
   },
   "file_extension": ".py",
   "mimetype": "text/x-python",
   "name": "python",
   "nbconvert_exporter": "python",
   "pygments_lexer": "ipython3",
   "version": "3.7.9"
  }
 },
 "nbformat": 4,
 "nbformat_minor": 4
}
