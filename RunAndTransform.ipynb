{
 "cells": [
  {
   "cell_type": "code",
   "execution_count": 1,
   "metadata": {},
   "outputs": [],
   "source": [
    "%load_ext autoreload\n",
    "%autoreload 2"
   ]
  },
  {
   "cell_type": "code",
   "execution_count": 73,
   "metadata": {},
   "outputs": [],
   "source": [
    "import numpy as np\n",
    "import cv2"
   ]
  },
  {
   "cell_type": "markdown",
   "metadata": {},
   "source": [
    "# Set-up"
   ]
  },
  {
   "cell_type": "markdown",
   "metadata": {},
   "source": [
    "These values of intrinsics were found out by regressing `skeletons_image.txt` and `skeletons_world.txt` to find out the transformation matrix between $(u,v)$ and $(X_w,Y_w,Z_w)$."
   ]
  },
  {
   "cell_type": "code",
   "execution_count": 3,
   "metadata": {},
   "outputs": [],
   "source": [
    "fx, fy, cx, cy = (440.44232, -461.0357, -0.00015258789, 3.0517578e-05)"
   ]
  },
  {
   "cell_type": "markdown",
   "metadata": {},
   "source": [
    "`g` - Gesture #\n",
    "\n",
    "`f` - Finger #\n",
    "\n",
    "`s` - Subject #\n",
    "\n",
    "`e` - Essai #"
   ]
  },
  {
   "cell_type": "code",
   "execution_count": 29,
   "metadata": {},
   "outputs": [],
   "source": [
    "g = 1\n",
    "f = 1\n",
    "s = 2\n",
    "e = 1\n",
    "\n",
    "ESSAI = f'./dataset/gesture_{g}/finger_{f}/subject_{s}/essai_{e}/'"
   ]
  },
  {
   "cell_type": "code",
   "execution_count": 30,
   "metadata": {},
   "outputs": [
    {
     "data": {
      "text/plain": [
       "((77, 21, 2), (77, 21, 3))"
      ]
     },
     "execution_count": 30,
     "metadata": {},
     "output_type": "execute_result"
    }
   ],
   "source": [
    "true_uvd = np.loadtxt(f'{ESSAI}/skeletons_image.txt', dtype=np.float16)\n",
    "true_xyz = np.loadtxt(f'{ESSAI}/skeletons_world.txt', dtype=np.float16)\n",
    "\n",
    "true_uvd = true_uvd.reshape((-1, 22, 2))\n",
    "true_uvd = np.delete(true_uvd, 1, 1) # 3, 4\n",
    "\n",
    "true_xyz = true_xyz.reshape((-1, 22, 3))\n",
    "true_xyz = np.delete(true_xyz, 1, 1) # 4, 5, 6\n",
    "\n",
    "true_uvd.shape, true_xyz.shape"
   ]
  },
  {
   "cell_type": "markdown",
   "metadata": {},
   "source": [
    "# Inference"
   ]
  },
  {
   "cell_type": "code",
   "execution_count": 31,
   "metadata": {},
   "outputs": [],
   "source": [
    "from srn import srn\n",
    "handpose = srn.handpose"
   ]
  },
  {
   "cell_type": "code",
   "execution_count": 34,
   "metadata": {},
   "outputs": [],
   "source": [
    "pred_xyz, pred_uvd = handpose.run(ESSAI)"
   ]
  },
  {
   "cell_type": "markdown",
   "metadata": {},
   "source": [
    "## Preprocess"
   ]
  },
  {
   "cell_type": "markdown",
   "metadata": {},
   "source": [
    "Flip image coordinates\n",
    "$$ u = 640 - u' $$"
   ]
  },
  {
   "cell_type": "markdown",
   "metadata": {},
   "source": [
    "## Calculate world coordinates\n",
    "\n",
    "$$ world = \\frac{image}{f} Z_{world} $$"
   ]
  },
  {
   "cell_type": "code",
   "execution_count": 36,
   "metadata": {},
   "outputs": [],
   "source": [
    "pred_U = pred_uvd[:,:,0].flatten()\n",
    "pred_V = pred_uvd[:,:,1].flatten()\n",
    "pred_D = pred_uvd[:,:,2].flatten()"
   ]
  },
  {
   "cell_type": "code",
   "execution_count": 48,
   "metadata": {},
   "outputs": [],
   "source": [
    "calc_X = pred_U / fx * pred_D * 0.00092\n",
    "calc_Y = pred_V / fy * pred_D * 0.00092\n",
    "calc_Z = pred_D * 0.00092"
   ]
  },
  {
   "cell_type": "code",
   "execution_count": 38,
   "metadata": {},
   "outputs": [],
   "source": [
    "true_X = true_xyz[:,:,0].flatten()\n",
    "true_Y = true_xyz[:,:,1].flatten()\n",
    "true_Z = true_xyz[:,:,2].flatten()\n",
    "true_U = true_uvd[:,:,0].flatten()\n",
    "true_V = true_uvd[:,:,1].flatten()\n",
    "true_D = true_Z"
   ]
  },
  {
   "cell_type": "markdown",
   "metadata": {},
   "source": [
    "## Examine"
   ]
  },
  {
   "cell_type": "markdown",
   "metadata": {},
   "source": [
    "### Scaling of true depth and predicted depth\n",
    "What might be the scaling? 1111 had 0.00092"
   ]
  },
  {
   "cell_type": "code",
   "execution_count": 58,
   "metadata": {},
   "outputs": [
    {
     "data": {
      "text/plain": [
       "array([0.00088013, 0.00089107, 0.00093826, ..., 0.00096218, 0.00094196,\n",
       "       0.00096934], dtype=float32)"
      ]
     },
     "execution_count": 58,
     "metadata": {},
     "output_type": "execute_result"
    }
   ],
   "source": [
    "(true_D / pred_D)"
   ]
  },
  {
   "cell_type": "code",
   "execution_count": 59,
   "metadata": {},
   "outputs": [
    {
     "data": {
      "text/plain": [
       "0.0009766514"
      ]
     },
     "execution_count": 59,
     "metadata": {},
     "output_type": "execute_result"
    }
   ],
   "source": [
    "(true_D / pred_D).mean()"
   ]
  },
  {
   "cell_type": "markdown",
   "metadata": {},
   "source": [
    "## Errors"
   ]
  },
  {
   "cell_type": "markdown",
   "metadata": {},
   "source": [
    "Error in $X_w$"
   ]
  },
  {
   "cell_type": "code",
   "execution_count": 49,
   "metadata": {},
   "outputs": [
    {
     "data": {
      "text/plain": [
       "0.02743401"
      ]
     },
     "execution_count": 49,
     "metadata": {},
     "output_type": "execute_result"
    }
   ],
   "source": [
    "np.mean(np.abs(true_X - calc_X))"
   ]
  },
  {
   "cell_type": "markdown",
   "metadata": {},
   "source": [
    "Error in $Y_w$"
   ]
  },
  {
   "cell_type": "code",
   "execution_count": 50,
   "metadata": {},
   "outputs": [
    {
     "data": {
      "text/plain": [
       "0.02357011"
      ]
     },
     "execution_count": 50,
     "metadata": {},
     "output_type": "execute_result"
    }
   ],
   "source": [
    "np.mean(np.abs(true_Y - calc_Y))"
   ]
  },
  {
   "cell_type": "markdown",
   "metadata": {},
   "source": [
    "Error in $Z_w$"
   ]
  },
  {
   "cell_type": "code",
   "execution_count": 51,
   "metadata": {},
   "outputs": [
    {
     "data": {
      "text/plain": [
       "0.027494956"
      ]
     },
     "execution_count": 51,
     "metadata": {},
     "output_type": "execute_result"
    }
   ],
   "source": [
    "np.mean(np.abs(true_Z - calc_Z))"
   ]
  },
  {
   "cell_type": "markdown",
   "metadata": {},
   "source": [
    "Error in $u$"
   ]
  },
  {
   "cell_type": "code",
   "execution_count": 42,
   "metadata": {},
   "outputs": [
    {
     "data": {
      "text/plain": [
       "12.82787"
      ]
     },
     "execution_count": 42,
     "metadata": {},
     "output_type": "execute_result"
    }
   ],
   "source": [
    "np.mean(np.abs(true_U - pred_U))"
   ]
  },
  {
   "cell_type": "markdown",
   "metadata": {},
   "source": [
    "Error in $v$"
   ]
  },
  {
   "cell_type": "code",
   "execution_count": 43,
   "metadata": {
    "jupyter": {
     "source_hidden": true
    },
    "tags": []
   },
   "outputs": [
    {
     "data": {
      "text/plain": [
       "22.276278"
      ]
     },
     "execution_count": 43,
     "metadata": {},
     "output_type": "execute_result"
    }
   ],
   "source": [
    "np.mean(np.abs(true_V - pred_V))"
   ]
  },
  {
   "cell_type": "markdown",
   "metadata": {},
   "source": [
    "## Plots"
   ]
  },
  {
   "cell_type": "markdown",
   "metadata": {},
   "source": [
    "### Plotting pred_uvd"
   ]
  },
  {
   "cell_type": "code",
   "execution_count": null,
   "metadata": {},
   "outputs": [],
   "source": [
    "for frameno, poses in enumerate(pred_uvd):\n",
    "    img = cv2.imread(ESSAI + f'/{frameno}_depth.png', cv2.IMREAD_ANYDEPTH)\n",
    "    plt.imshow(img)\n",
    "    for u, v, d in poses:\n",
    "        c = plt.Circle((u, v), radius=2.5, color='r')\n",
    "        plt.gca().add_patch(c)\n",
    "    plt.show()"
   ]
  },
  {
   "cell_type": "markdown",
   "metadata": {},
   "source": [
    "### Plotting true_uvd"
   ]
  },
  {
   "cell_type": "code",
   "execution_count": null,
   "metadata": {},
   "outputs": [],
   "source": [
    "for frameno, poses in enumerate(true_uvd):\n",
    "    img = cv2.imread(ESSAI + f'/{frameno}_depth.png', cv2.IMREAD_ANYDEPTH)\n",
    "    plt.imshow(img)\n",
    "    for u, v in poses:\n",
    "        c = plt.Circle((u, v), radius=2.5, color='r')\n",
    "        plt.gca().add_patch(c)\n",
    "    plt.show()"
   ]
  }
 ],
 "metadata": {
  "kernelspec": {
   "display_name": "Python 3",
   "language": "python",
   "name": "python3"
  },
  "language_info": {
   "codemirror_mode": {
    "name": "ipython",
    "version": 3
   },
   "file_extension": ".py",
   "mimetype": "text/x-python",
   "name": "python",
   "nbconvert_exporter": "python",
   "pygments_lexer": "ipython3",
   "version": "3.8.3"
  }
 },
 "nbformat": 4,
 "nbformat_minor": 5
}
