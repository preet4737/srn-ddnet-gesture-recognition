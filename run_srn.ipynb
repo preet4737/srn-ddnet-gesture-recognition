{
 "cells": [
  {
   "cell_type": "code",
   "execution_count": 1,
   "id": "incorrect-affiliation",
   "metadata": {},
   "outputs": [],
   "source": [
    "%load_ext autoreload\n",
    "%autoreload 2"
   ]
  },
  {
   "cell_type": "code",
   "execution_count": 2,
   "id": "potential-copying",
   "metadata": {},
   "outputs": [],
   "source": [
    "import numpy as np\n",
    "import scipy\n",
    "import cv2\n",
    "import matplotlib.pyplot as plt"
   ]
  },
  {
   "cell_type": "code",
   "execution_count": 226,
   "id": "plain-stake",
   "metadata": {},
   "outputs": [],
   "source": [
    "from srn import srn\n",
    "handpose = srn.handpose"
   ]
  },
  {
   "cell_type": "code",
   "execution_count": 163,
   "id": "academic-entity",
   "metadata": {},
   "outputs": [],
   "source": [
    "ESSAI = './dataset/gesture_1/finger_1/subject_1/essai_1/'"
   ]
  },
  {
   "cell_type": "code",
   "execution_count": 164,
   "id": "portuguese-theology",
   "metadata": {},
   "outputs": [
    {
     "data": {
      "text/plain": [
       "((95, 21, 2), (95, 21, 3))"
      ]
     },
     "execution_count": 164,
     "metadata": {},
     "output_type": "execute_result"
    }
   ],
   "source": [
    "true_I = np.loadtxt(f'{ESSAI}/skeletons_image.txt', dtype=np.float16)\n",
    "true_W = np.loadtxt(f'{ESSAI}/skeletons_world.txt', dtype=np.float16)\n",
    "\n",
    "true_I = true_I.reshape((-1, 22, 2))\n",
    "true_I = np.delete(true_I, 1, 1) # 3, 4\n",
    "\n",
    "true_W = true_W.reshape((-1, 22, 3))\n",
    "true_W = np.delete(true_W, 1, 1) # 4, 5, 6\n",
    "\n",
    "true_I.shape, true_W.shape"
   ]
  },
  {
   "cell_type": "code",
   "execution_count": 165,
   "id": "enormous-nirvana",
   "metadata": {},
   "outputs": [],
   "source": [
    "frame = 0\n",
    "d = cv2.imread(ESSAI + f'/{frame}_depth.png', cv2.IMREAD_ANYDEPTH)"
   ]
  },
  {
   "cell_type": "code",
   "execution_count": 227,
   "id": "complicated-secretariat",
   "metadata": {},
   "outputs": [],
   "source": [
    "world, img = handpose.run(ESSAI)"
   ]
  },
  {
   "cell_type": "markdown",
   "id": "incorporate-length",
   "metadata": {},
   "source": [
    "## Note 1"
   ]
  },
  {
   "cell_type": "markdown",
   "id": "spiritual-emission",
   "metadata": {},
   "source": [
    "If you add cx, cy to world coordinates, you get same image coodinates"
   ]
  },
  {
   "cell_type": "code",
   "execution_count": 173,
   "id": "modular-elizabeth",
   "metadata": {},
   "outputs": [
    {
     "data": {
      "text/plain": [
       "array([[255.85786, 334.1264 , 623.6151 ],\n",
       "       [271.66418, 336.92432, 625.85376],\n",
       "       [285.90564, 309.01257, 576.6246 ],\n",
       "       [297.40805, 289.59512, 543.70734],\n",
       "       [313.50616, 279.03592, 517.84796],\n",
       "       [289.45267, 258.70325, 600.788  ],\n",
       "       [296.52887, 215.83688, 572.9401 ],\n",
       "       [299.74402, 192.54897, 553.1357 ],\n",
       "       [305.12814, 179.68967, 540.7427 ],\n",
       "       [265.184  , 261.10663, 597.18835],\n",
       "       [258.23016, 227.83034, 556.58887],\n",
       "       [262.3088 , 247.29913, 549.10114],\n",
       "       [266.40845, 265.7037 , 557.8392 ],\n",
       "       [246.3486 , 265.90317, 596.25336],\n",
       "       [240.79855, 242.79367, 556.0933 ],\n",
       "       [245.97066, 259.72018, 555.607  ],\n",
       "       [251.97328, 276.40112, 567.7063 ],\n",
       "       [225.70462, 270.65866, 594.15155],\n",
       "       [228.90515, 262.8852 , 563.1003 ],\n",
       "       [234.48734, 273.08765, 558.64044],\n",
       "       [241.69524, 287.26483, 569.10095]], dtype=float32)"
      ]
     },
     "execution_count": 173,
     "metadata": {},
     "output_type": "execute_result"
    }
   ],
   "source": [
    "t = world[frame].copy()\n",
    "t[:,0] = t[:,0] + cx\n",
    "t[:,1] = t[:,1] + cy\n",
    "t"
   ]
  },
  {
   "cell_type": "code",
   "execution_count": 174,
   "id": "academic-johnston",
   "metadata": {},
   "outputs": [
    {
     "data": {
      "text/plain": [
       "array([[273.6913 , 306.56128, 623.6151 ],\n",
       "       [284.9693 , 308.34277, 625.85376],\n",
       "       [293.1491 , 292.852  , 576.6246 ],\n",
       "       [301.04883, 280.28955, 543.70734],\n",
       "       [313.966  , 273.48053, 517.84796],\n",
       "       [296.6922 , 251.65063, 600.788  ],\n",
       "       [301.16556, 218.28632, 572.9401 ],\n",
       "       [303.17383, 198.5137 , 553.1357 ],\n",
       "       [307.2523 , 186.86493, 540.7427 ],\n",
       "       [278.67206, 253.64642, 597.18835],\n",
       "       [270.40344, 227.92468, 556.58887],\n",
       "       [273.04553, 244.26556, 549.10114],\n",
       "       [276.96466, 259.22818, 557.8392 ],\n",
       "       [264.6981 , 257.395  , 596.25336],\n",
       "       [256.55484, 240.33035, 556.0933 ],\n",
       "       [260.60266, 254.38684, 555.607  ],\n",
       "       [266.45316, 267.3798 , 567.7063 ],\n",
       "       [249.21   , 261.18784, 594.15155],\n",
       "       [247.99835, 256.6322 , 563.1003 ],\n",
       "       [251.85225, 265.278  , 558.64044],\n",
       "       [258.6209 , 276.08542, 569.10095]], dtype=float32)"
      ]
     },
     "execution_count": 174,
     "metadata": {},
     "output_type": "execute_result"
    }
   ],
   "source": [
    "img[frame]"
   ]
  },
  {
   "cell_type": "code",
   "execution_count": 175,
   "id": "honest-edward",
   "metadata": {},
   "outputs": [
    {
     "data": {
      "text/plain": [
       "6.887093"
      ]
     },
     "execution_count": 175,
     "metadata": {},
     "output_type": "execute_result"
    }
   ],
   "source": [
    "np.average(np.abs(t - img[frame])) # Average error in pixels"
   ]
  },
  {
   "cell_type": "markdown",
   "id": "spiritual-matthew",
   "metadata": {},
   "source": [
    "## Note 2\n",
    "x axis is inverted in their outputs"
   ]
  },
  {
   "cell_type": "code",
   "execution_count": 176,
   "id": "brief-center",
   "metadata": {},
   "outputs": [
    {
     "data": {
      "image/png": "[encoded data removed]",
      "text/plain": [
       "<Figure size 432x288 with 1 Axes>"
      ]
     },
     "metadata": {
      "needs_background": "light"
     },
     "output_type": "display_data"
    }
   ],
   "source": [
    "plt.imshow(d)\n",
    "for x, y, z in img[frame]:\n",
    "    c = plt.Circle((x, y), color='red')\n",
    "    plt.gca().add_patch(c)\n",
    "plt.show()"
   ]
  },
  {
   "cell_type": "markdown",
   "id": "compound-penetration",
   "metadata": {},
   "source": [
    "Mirror it on x = 320, by doing new_x = 640 - x"
   ]
  },
  {
   "cell_type": "code",
   "execution_count": null,
   "id": "swedish-window",
   "metadata": {},
   "outputs": [],
   "source": [
    "for idx, pose in enumerate(img):\n",
    "    dd = cv2.imread(ESSAI + f'/{idx}_depth.png', cv2.IMREAD_ANYDEPTH)\n",
    "    plt.imshow(dd)\n",
    "    for x, y, z in pose:\n",
    "        c = plt.Circle((640 - x, y), color='red')\n",
    "        plt.gca().add_patch(c)\n",
    "    plt.show()"
   ]
  },
  {
   "cell_type": "markdown",
   "id": "funky-finder",
   "metadata": {},
   "source": [
    "This output is better than the code before with center and cube modifications."
   ]
  },
  {
   "cell_type": "code",
   "execution_count": 180,
   "id": "polished-breakdown",
   "metadata": {},
   "outputs": [
    {
     "data": {
      "image/png": "[encoded data removed]",
      "text/plain": [
       "<Figure size 432x288 with 1 Axes>"
      ]
     },
     "metadata": {
      "needs_background": "light"
     },
     "output_type": "display_data"
    }
   ],
   "source": [
    "true_uvd = true_I[frame].copy() # actual uvd of frame 0 of essai 1\n",
    "plt.imshow(d)\n",
    "for x, y in true_uvd:\n",
    "    c = plt.Circle((x, y), color='red')\n",
    "    plt.gca().add_patch(c)\n",
    "plt.show()"
   ]
  },
  {
   "cell_type": "code",
   "execution_count": 223,
   "id": "greatest-ability",
   "metadata": {},
   "outputs": [
    {
     "data": {
      "text/plain": [
       "array([[367.8, 319.8],\n",
       "       [350.8, 311. ],\n",
       "       [355.8, 299.5],\n",
       "       [345.5, 286. ],\n",
       "       [334.8, 268.8],\n",
       "       [336.5, 249.4],\n",
       "       [335. , 217.1],\n",
       "       [335.5, 208.8],\n",
       "       [335.5, 198. ],\n",
       "       [354.5, 246.9],\n",
       "       [353.5, 221. ],\n",
       "       [357.5, 236.5],\n",
       "       [359.8, 253.1],\n",
       "       [371. , 246. ],\n",
       "       [376.2, 232.4],\n",
       "       [376.8, 250. ],\n",
       "       [374.2, 262.8],\n",
       "       [390.2, 249.4],\n",
       "       [391.8, 252.1],\n",
       "       [392.8, 266.8],\n",
       "       [390. , 275. ]], dtype=float16)"
      ]
     },
     "execution_count": 223,
     "metadata": {},
     "output_type": "execute_result"
    }
   ],
   "source": [
    "true_uvd"
   ]
  },
  {
   "cell_type": "code",
   "execution_count": 181,
   "id": "missing-skating",
   "metadata": {},
   "outputs": [
    {
     "data": {
      "text/plain": [
       "array([[366.3087 , 306.56128, 623.6151 ],\n",
       "       [355.0307 , 308.34277, 625.85376],\n",
       "       [346.8509 , 292.852  , 576.6246 ],\n",
       "       [338.95117, 280.28955, 543.70734],\n",
       "       [326.034  , 273.48053, 517.84796],\n",
       "       [343.3078 , 251.65063, 600.788  ],\n",
       "       [338.83444, 218.28632, 572.9401 ],\n",
       "       [336.82617, 198.5137 , 553.1357 ],\n",
       "       [332.7477 , 186.86493, 540.7427 ],\n",
       "       [361.32794, 253.64642, 597.18835],\n",
       "       [369.59656, 227.92468, 556.58887],\n",
       "       [366.95447, 244.26556, 549.10114],\n",
       "       [363.03534, 259.22818, 557.8392 ],\n",
       "       [375.3019 , 257.395  , 596.25336],\n",
       "       [383.44516, 240.33035, 556.0933 ],\n",
       "       [379.39734, 254.38684, 555.607  ],\n",
       "       [373.54684, 267.3798 , 567.7063 ],\n",
       "       [390.78998, 261.18784, 594.15155],\n",
       "       [392.00165, 256.6322 , 563.1003 ],\n",
       "       [388.14777, 265.278  , 558.64044],\n",
       "       [381.3791 , 276.08542, 569.10095]], dtype=float32)"
      ]
     },
     "execution_count": 181,
     "metadata": {},
     "output_type": "execute_result"
    }
   ],
   "source": [
    "predicted_uvd = img[frame].copy() # predicted uvd of frame 0 of essai 1\n",
    "predicted_uvd[:,0] = 640 - predicted_uvd[:,0] # mirror it\n",
    "predicted_uvd # inverted"
   ]
  },
  {
   "cell_type": "code",
   "execution_count": 193,
   "id": "level-ivory",
   "metadata": {},
   "outputs": [
    {
     "data": {
      "text/plain": [
       "5.754424"
      ]
     },
     "execution_count": 193,
     "metadata": {},
     "output_type": "execute_result"
    }
   ],
   "source": [
    "np.abs(predicted_uvd[:,:2] - true_uvd).mean()"
   ]
  },
  {
   "cell_type": "markdown",
   "id": "tested-cocktail",
   "metadata": {},
   "source": [
    "## Note 3"
   ]
  },
  {
   "cell_type": "markdown",
   "id": "widespread-terminal",
   "metadata": {},
   "source": [
    "Divide world depth by 0.00092 to get pixel depth"
   ]
  },
  {
   "cell_type": "code",
   "execution_count": 183,
   "id": "breeding-friday",
   "metadata": {},
   "outputs": [
    {
     "data": {
      "text/plain": [
       "0.00091771106"
      ]
     },
     "execution_count": 183,
     "metadata": {},
     "output_type": "execute_result"
    }
   ],
   "source": [
    "(true_W[:,:,2] / img[:,:,2]).mean()"
   ]
  },
  {
   "cell_type": "code",
   "execution_count": 235,
   "id": "overhead-visit",
   "metadata": {},
   "outputs": [
    {
     "data": {
      "text/plain": [
       "array([[[-44.02487 ,  79.43333 , 633.27106 ],\n",
       "        [-31.983786,  82.72307 , 636.5479  ],\n",
       "        [-22.22891 ,  62.72191 , 585.39923 ],\n",
       "        ...,\n",
       "        [-64.96221 ,  23.863213, 572.8618  ],\n",
       "        [-58.915855,  28.159128, 563.31366 ],\n",
       "        [-48.83671 ,  37.121063, 565.52716 ]],\n",
       "\n",
       "       [[-44.902775,  78.5742  , 630.8891  ],\n",
       "        [-33.74222 ,  81.856995, 634.32324 ],\n",
       "        [-23.51498 ,  62.62845 , 583.2882  ],\n",
       "        ...,\n",
       "        [-64.92628 ,  19.521172, 570.45386 ],\n",
       "        [-61.191868,  19.743114, 555.8712  ],\n",
       "        [-52.551277,  27.633883, 552.04297 ]],\n",
       "\n",
       "       [[-45.808506,  75.24219 , 628.06885 ],\n",
       "        [-34.669163,  79.144775, 630.7123  ],\n",
       "        [-22.741339,  60.983185, 578.97424 ],\n",
       "        ...,\n",
       "        [-63.78095 ,  19.822386, 570.5254  ],\n",
       "        [-60.181652,  22.02808 , 559.65106 ],\n",
       "        [-52.67655 ,  29.407507, 559.47534 ]],\n",
       "\n",
       "       ...,\n",
       "\n",
       "       [[-52.199684, 105.715485, 623.15533 ],\n",
       "        [-42.140026, 110.79467 , 623.296   ],\n",
       "        [-35.852043,  86.123695, 578.789   ],\n",
       "        ...,\n",
       "        [-74.467705,  49.705116, 580.48035 ],\n",
       "        [-70.39873 ,  52.810223, 572.1346  ],\n",
       "        [-62.477352,  60.085403, 571.01776 ]],\n",
       "\n",
       "       [[-53.05717 , 105.97984 , 624.5688  ],\n",
       "        [-43.019283, 111.39137 , 624.4132  ],\n",
       "        [-36.894855,  85.389854, 579.7227  ],\n",
       "        ...,\n",
       "        [-76.25536 ,  50.810944, 581.7224  ],\n",
       "        [-72.06208 ,  55.144836, 574.8916  ],\n",
       "        [-63.516567,  62.662262, 575.3317  ]],\n",
       "\n",
       "       [[-52.64067 , 104.98618 , 622.6087  ],\n",
       "        [-42.231335, 109.37705 , 623.5073  ],\n",
       "        [-36.11284 ,  85.59327 , 579.4384  ],\n",
       "        ...,\n",
       "        [-75.37365 ,  50.001877, 577.85126 ],\n",
       "        [-71.131325,  52.91995 , 568.4411  ],\n",
       "        [-63.744003,  59.656975, 566.39197 ]]], dtype=float32)"
      ]
     },
     "execution_count": 235,
     "metadata": {},
     "output_type": "execute_result"
    }
   ],
   "source": [
    "world"
   ]
  },
  {
   "cell_type": "code",
   "execution_count": 184,
   "id": "suspected-antenna",
   "metadata": {},
   "outputs": [
    {
     "data": {
      "text/plain": [
       "16.087332"
      ]
     },
     "execution_count": 184,
     "metadata": {},
     "output_type": "execute_result"
    }
   ],
   "source": [
    "np.average(np.abs(true_W[0][:,2] / 0.00092 - img[0][:,2])) # zcoords"
   ]
  },
  {
   "cell_type": "code",
   "execution_count": 185,
   "id": "designing-longitude",
   "metadata": {},
   "outputs": [],
   "source": [
    "M = np.array([\n",
    "        [440.47796631,   0.        , 316.566     ],\n",
    "        [  0.        , 461.05618286, 228.322     ],\n",
    "        [  0.        ,   0.        ,   1.        ]])"
   ]
  },
  {
   "cell_type": "code",
   "execution_count": 186,
   "id": "catholic-turner",
   "metadata": {},
   "outputs": [],
   "source": [
    "import torch"
   ]
  },
  {
   "cell_type": "code",
   "execution_count": 187,
   "id": "artistic-anthropology",
   "metadata": {},
   "outputs": [
    {
     "data": {
      "text/plain": [
       "array([[-447.56302336],\n",
       "       [-308.15873135],\n",
       "       [ 623.6151123 ]])"
      ]
     },
     "execution_count": 187,
     "metadata": {},
     "output_type": "execute_result"
    }
   ],
   "source": [
    "np.linalg.inv(M) @ img[0][0].reshape((3, 1))"
   ]
  },
  {
   "cell_type": "code",
   "execution_count": 188,
   "id": "running-retreat",
   "metadata": {},
   "outputs": [
    {
     "data": {
      "text/plain": [
       "array([[[ -60.726154,  105.746414,  623.6151  ],\n",
       "        [ -44.919815,  108.5443  ,  625.85376 ],\n",
       "        [ -30.67836 ,   80.63257 ,  576.6246  ],\n",
       "        ...,\n",
       "        [ -87.678856,   34.50518 ,  563.1003  ],\n",
       "        [ -82.09668 ,   44.70763 ,  558.64044 ],\n",
       "        [ -74.88878 ,   58.884815,  569.10095 ]],\n",
       "\n",
       "       [[ -63.002995,  100.31391 ,  620.8004  ],\n",
       "        [ -48.5808  ,  103.07697 ,  622.81555 ],\n",
       "        [ -31.795052,   78.76632 ,  572.0432  ],\n",
       "        ...,\n",
       "        [ -88.41413 ,   29.288424,  562.5786  ],\n",
       "        [ -83.98984 ,   34.428844,  553.2495  ],\n",
       "        [ -75.9561  ,   47.026913,  558.6531  ]],\n",
       "\n",
       "       [[ -63.724106,   98.26795 ,  618.7464  ],\n",
       "        [ -48.90377 ,  101.33543 ,  619.3795  ],\n",
       "        [ -30.98916 ,   76.64468 ,  569.30994 ],\n",
       "        ...,\n",
       "        [ -91.697975,   30.597591,  563.98175 ],\n",
       "        [ -87.05127 ,   41.10343 ,  559.8371  ],\n",
       "        [ -79.85382 ,   55.29474 ,  572.18054 ]],\n",
       "\n",
       "       ...,\n",
       "\n",
       "       [[ -73.41698 ,  140.82213 ,  615.17126 ],\n",
       "        [ -59.419296,  143.31842 ,  614.4086  ],\n",
       "        [ -48.849194,  108.465706,  566.91095 ],\n",
       "        ...,\n",
       "        [-104.7785  ,   68.20201 ,  570.71515 ],\n",
       "        [-100.66228 ,   75.57055 ,  561.40094 ],\n",
       "        [ -93.048454,   90.286804,  566.4991  ]],\n",
       "\n",
       "       [[ -73.243835,  143.58005 ,  613.5406  ],\n",
       "        [ -58.834335,  146.36171 ,  612.9771  ],\n",
       "        [ -49.64783 ,  108.47119 ,  567.8145  ],\n",
       "        ...,\n",
       "        [-104.87269 ,   66.95586 ,  569.6295  ],\n",
       "        [-100.72164 ,   74.67377 ,  559.6019  ],\n",
       "        [ -92.43548 ,   90.431305,  564.42584 ]],\n",
       "\n",
       "       [[ -73.97044 ,  141.26498 ,  615.0688  ],\n",
       "        [ -60.08954 ,  144.05283 ,  614.98596 ],\n",
       "        [ -49.61642 ,  108.153694,  568.37177 ],\n",
       "        ...,\n",
       "        [-103.76128 ,   67.54632 ,  570.8434  ],\n",
       "        [ -99.7622  ,   75.12173 ,  561.6087  ],\n",
       "        [ -91.99594 ,   91.02953 ,  566.6117  ]]], dtype=float32)"
      ]
     },
     "execution_count": 188,
     "metadata": {},
     "output_type": "execute_result"
    }
   ],
   "source": [
    "world"
   ]
  },
  {
   "cell_type": "code",
   "execution_count": 203,
   "id": "extraordinary-socket",
   "metadata": {},
   "outputs": [
    {
     "data": {
      "text/plain": [
       "0.016070241"
      ]
     },
     "execution_count": 203,
     "metadata": {},
     "output_type": "execute_result"
    }
   ],
   "source": [
    "np.abs(true_W[:,:,2] - img[:,:,2] * 0.00092).mean()"
   ]
  },
  {
   "cell_type": "code",
   "execution_count": 215,
   "id": "variable-failing",
   "metadata": {},
   "outputs": [
    {
     "data": {
      "text/plain": [
       "(array([[[366.3087 , 333.43872],\n",
       "         [355.0307 , 331.65723],\n",
       "         [346.8509 , 347.148  ],\n",
       "         ...,\n",
       "         [392.00165, 383.3678 ],\n",
       "         [388.14777, 374.722  ],\n",
       "         [381.3791 , 363.91458]],\n",
       " \n",
       "        [[368.11865, 337.11887],\n",
       "         [357.7741 , 335.31448],\n",
       "         [347.89844, 348.13583],\n",
       "         ...,\n",
       "         [392.64093, 387.61694],\n",
       "         [390.28577, 382.92838],\n",
       "         [383.30466, 372.80872]],\n",
       " \n",
       "        [[368.7804 , 338.3961 ],\n",
       "         [358.1944 , 336.18756],\n",
       "         [347.39246, 349.54926],\n",
       "         ...,\n",
       "         [395.03345, 386.6064 ],\n",
       "         [391.90765, 377.7691 ],\n",
       "         [384.88934, 367.06418]],\n",
       " \n",
       "        ...,\n",
       " \n",
       "        [[375.98438, 306.0772 ],\n",
       "         [366.0145 , 304.07297],\n",
       "         [361.3708 , 323.40726],\n",
       "         ...,\n",
       "         [404.28406, 356.52255],\n",
       "         [402.39612, 349.55695],\n",
       "         [395.76526, 338.13837]],\n",
       " \n",
       "        [[375.9998 , 303.7242 ],\n",
       "         [365.69363, 301.53278],\n",
       "         [361.92993, 323.54318],\n",
       "         ...,\n",
       "         [404.511  , 357.42618],\n",
       "         [402.69675, 350.09628],\n",
       "         [395.55264, 337.75043]],\n",
       " \n",
       "        [[376.3895 , 305.72766],\n",
       "         [366.45456, 303.62335],\n",
       "         [361.86783, 323.8871 ],\n",
       "         ...,\n",
       "         [403.48096, 357.0645 ],\n",
       "         [401.66095, 349.94836],\n",
       "         [394.93268, 337.5486 ]]], dtype=float32),\n",
       " array([[[367.8, 319.8],\n",
       "         [350.8, 311. ],\n",
       "         [355.8, 299.5],\n",
       "         ...,\n",
       "         [391.8, 252.1],\n",
       "         [392.8, 266.8],\n",
       "         [390. , 275. ]],\n",
       " \n",
       "        [[370.8, 319. ],\n",
       "         [356.8, 309.8],\n",
       "         [357.5, 294.5],\n",
       "         ...,\n",
       "         [393.2, 250.1],\n",
       "         [394.2, 264.8],\n",
       "         [393.5, 273.2]],\n",
       " \n",
       "        [[371.5, 318.2],\n",
       "         [357.5, 309. ],\n",
       "         [357.5, 294.5],\n",
       "         ...,\n",
       "         [393.8, 249.6],\n",
       "         [394.5, 264.2],\n",
       "         [394. , 272.8]],\n",
       " \n",
       "        ...,\n",
       " \n",
       "        [[385.5, 335.2],\n",
       "         [368. , 329.2],\n",
       "         [365.2, 316.5],\n",
       "         ...,\n",
       "         [411.8, 276.5],\n",
       "         [405. , 290.2],\n",
       "         [397.8, 300.8]],\n",
       " \n",
       "        [[385.2, 335. ],\n",
       "         [368. , 329. ],\n",
       "         [364.8, 316.5],\n",
       "         ...,\n",
       "         [412. , 276.5],\n",
       "         [405. , 290.2],\n",
       "         [398. , 301. ]],\n",
       " \n",
       "        [[385.5, 334.8],\n",
       "         [368. , 329. ],\n",
       "         [364.5, 317.2],\n",
       "         ...,\n",
       "         [412.5, 277.8],\n",
       "         [405.2, 290.8],\n",
       "         [398.2, 301.5]]], dtype=float16))"
      ]
     },
     "execution_count": 215,
     "metadata": {},
     "output_type": "execute_result"
    }
   ],
   "source": [
    "predicted_all_uv == img[:,:,:2].copy()\n",
    "predicted_all_uv[:,:,0] = 640 - predicted_all_uv[:,:,0]\n",
    "predicted_all_uv, true_I"
   ]
  },
  {
   "cell_type": "code",
   "execution_count": 216,
   "id": "excited-needle",
   "metadata": {},
   "outputs": [
    {
     "data": {
      "text/plain": [
       "array([[[  1.4413147 ,  13.688721  ],\n",
       "        [  4.2807007 ,  20.657227  ],\n",
       "        [  8.899109  ,  47.64801   ],\n",
       "        ...,\n",
       "        [  0.25164795, 131.2428    ],\n",
       "        [  4.602234  , 107.971985  ],\n",
       "        [  8.620911  ,  88.91458   ]],\n",
       "\n",
       "       [[  2.6313477 ,  18.118866  ],\n",
       "        [  1.0241089 ,  25.564484  ],\n",
       "        [  9.6015625 ,  53.635834  ],\n",
       "        ...,\n",
       "        [  0.6090698 , 137.49194   ],\n",
       "        [  3.9642334 , 118.178375  ],\n",
       "        [ 10.195343  ,  99.558716  ]],\n",
       "\n",
       "       [[  2.7196045 ,  20.146088  ],\n",
       "        [  0.694397  ,  27.187561  ],\n",
       "        [ 10.107544  ,  55.049255  ],\n",
       "        ...,\n",
       "        [  1.2834473 , 136.98141   ],\n",
       "        [  2.5923462 , 113.519104  ],\n",
       "        [  9.110657  ,  94.31418   ]],\n",
       "\n",
       "       ...,\n",
       "\n",
       "       [[  9.515625  ,  29.17279   ],\n",
       "        [  1.9855042 ,  25.177032  ],\n",
       "        [  3.8792114 ,   6.907257  ],\n",
       "        ...,\n",
       "        [  7.4659424 ,  80.02255   ],\n",
       "        [  2.6038818 ,  59.306946  ],\n",
       "        [  1.9847412 ,  37.388367  ]],\n",
       "\n",
       "       [[  9.250214  ,  31.275787  ],\n",
       "        [  2.306366  ,  27.467224  ],\n",
       "        [  2.8200684 ,   7.0431824 ],\n",
       "        ...,\n",
       "        [  7.4890137 ,  80.92618   ],\n",
       "        [  2.3032532 ,  59.846283  ],\n",
       "        [  2.4473572 ,  36.750427  ]],\n",
       "\n",
       "       [[  9.110504  ,  29.022339  ],\n",
       "        [  1.5454407 ,  25.376648  ],\n",
       "        [  2.6321716 ,   6.637085  ],\n",
       "        ...,\n",
       "        [  9.019043  ,  79.314514  ],\n",
       "        [  3.5890503 ,  59.198364  ],\n",
       "        [  3.3173218 ,  36.048615  ]]], dtype=float32)"
      ]
     },
     "execution_count": 216,
     "metadata": {},
     "output_type": "execute_result"
    }
   ],
   "source": [
    "np.abs(true_I - predicted_all_uv)"
   ]
  },
  {
   "cell_type": "raw",
   "id": "little-brave",
   "metadata": {},
   "source": [
    "440.47796631,   0.        , 316.566     ],\n",
    "        [  0.        , 461.05618286, 228.322     ],\n",
    "        [  0.        ,   0.        ,   1.       "
   ]
  },
  {
   "cell_type": "code",
   "execution_count": 248,
   "id": "pretty-federation",
   "metadata": {},
   "outputs": [],
   "source": [
    "Xc = (img[:,:,0] - 316.566) * img[:,:,2] * 0.0092 / 440.478\n",
    "Yc = (img[:,:,1] - 228.322) * img[:,:,2] * 0.0092 / 461.056"
   ]
  },
  {
   "cell_type": "code",
   "execution_count": 253,
   "id": "continent-photography",
   "metadata": {},
   "outputs": [
    {
     "data": {
      "text/plain": [
       "array([[0.5660637 , 0.41117525, 0.28571534, ..., 0.83540815, 0.757636  ,\n",
       "        0.6279849 ],\n",
       "       [0.57735723, 0.43379524, 0.30225912, ..., 0.83494675, 0.7869157 ,\n",
       "        0.6757713 ],\n",
       "       [0.5890089 , 0.44572005, 0.29230922, ..., 0.82021415, 0.7739197 ,\n",
       "        0.67737997],\n",
       "       ...,\n",
       "       [0.6712219 , 0.5418222 , 0.4609552 , ..., 0.9576765 , 0.90533954,\n",
       "        0.8034455 ],\n",
       "       [0.68225145, 0.5531319 , 0.47436884, ..., 0.9806711 , 0.92673457,\n",
       "        0.8168115 ],\n",
       "       [0.67689466, 0.54299664, 0.4643097 , ..., 0.96933097, 0.91476446,\n",
       "        0.81974053]], dtype=float32)"
      ]
     },
     "execution_count": 253,
     "metadata": {},
     "output_type": "execute_result"
    }
   ],
   "source": [
    "-Xc"
   ]
  },
  {
   "cell_type": "code",
   "execution_count": 250,
   "id": "generic-excuse",
   "metadata": {},
   "outputs": [
    {
     "data": {
      "text/plain": [
       "array([[0.9768977 , 1.0173295 , 0.7714739 , ..., 0.29392064, 0.34670252,\n",
       "        0.4568393 ],\n",
       "       [0.9663372 , 1.0066837 , 0.77032286, ..., 0.24055801, 0.24326862,\n",
       "        0.3402347 ],\n",
       "       [0.9253864 , 0.97334874, 0.7500991 , ..., 0.24425973, 0.2713532 ,\n",
       "        0.36203954],\n",
       "       ...,\n",
       "       [1.2998703 , 1.3622891 , 1.0590533 , ..., 0.6115034 , 0.6496528 ,\n",
       "        0.7390569 ],\n",
       "       [1.3031206 , 1.3696234 , 1.0500362 , ..., 0.62509453, 0.6783463 ,\n",
       "        0.77072924],\n",
       "       [1.2909073 , 1.344868  , 1.0525357 , ..., 0.6151473 , 0.6509969 ,\n",
       "        0.7337866 ]], dtype=float32)"
      ]
     },
     "execution_count": 250,
     "metadata": {},
     "output_type": "execute_result"
    }
   ],
   "source": [
    "Yc"
   ]
  },
  {
   "cell_type": "code",
   "execution_count": 265,
   "id": "retired-radiation",
   "metadata": {},
   "outputs": [
    {
     "data": {
      "text/plain": [
       "array([[0.5913, 0.5776, 0.5576, ..., 0.5396, 0.528 , 0.531 ],\n",
       "       [0.589 , 0.5757, 0.556 , ..., 0.5337, 0.5215, 0.525 ],\n",
       "       [0.5894, 0.576 , 0.5566, ..., 0.533 , 0.521 , 0.524 ],\n",
       "       ...,\n",
       "       [0.5713, 0.556 , 0.5415, ..., 0.5083, 0.519 , 0.533 ],\n",
       "       [0.5728, 0.5576, 0.542 , ..., 0.5083, 0.5186, 0.5327],\n",
       "       [0.5737, 0.5586, 0.543 , ..., 0.508 , 0.518 , 0.532 ]],\n",
       "      dtype=float16)"
      ]
     },
     "execution_count": 265,
     "metadata": {},
     "output_type": "execute_result"
    }
   ],
   "source": [
    "Zc = true_W[:,:,2]\n",
    "Zc"
   ]
  },
  {
   "cell_type": "code",
   "execution_count": 266,
   "id": "pleasant-timer",
   "metadata": {},
   "outputs": [
    {
     "data": {
      "text/plain": [
       "array([[0.5826094 , 0.5856241 , 0.5385673 , ..., 0.5270329 , 0.51824856,\n",
       "        0.520285  ],\n",
       "       [0.580418  , 0.5835774 , 0.53662515, ..., 0.5248176 , 0.51140153,\n",
       "        0.50787956],\n",
       "       [0.57782334, 0.5802553 , 0.5326563 , ..., 0.5248834 , 0.514879  ,\n",
       "        0.51471734],\n",
       "       ...,\n",
       "       [0.5733029 , 0.5734323 , 0.5324859 , ..., 0.53404194, 0.52636385,\n",
       "        0.5253363 ],\n",
       "       [0.5746033 , 0.57446015, 0.5333449 , ..., 0.5351846 , 0.52890027,\n",
       "        0.5293052 ],\n",
       "       [0.57280004, 0.57362676, 0.5330834 , ..., 0.5316232 , 0.52296585,\n",
       "        0.5210806 ]], dtype=float32)"
      ]
     },
     "execution_count": 266,
     "metadata": {},
     "output_type": "execute_result"
    }
   ],
   "source": [
    "img[:,:,2] * 0.00092"
   ]
  }
 ],
 "metadata": {
  "kernelspec": {
   "display_name": "Python 3",
   "language": "python",
   "name": "python3"
  },
  "language_info": {
   "codemirror_mode": {
    "name": "ipython",
    "version": 3
   },
   "file_extension": ".py",
   "mimetype": "text/x-python",
   "name": "python",
   "nbconvert_exporter": "python",
   "pygments_lexer": "ipython3",
   "version": "3.8.5"
  }
 },
 "nbformat": 4,
 "nbformat_minor": 5
}
