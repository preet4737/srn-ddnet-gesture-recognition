{
 "cells": [
  {
   "cell_type": "code",
   "execution_count": 1,
   "id": "massive-finder",
   "metadata": {},
   "outputs": [],
   "source": [
    "%load_ext autoreload\n",
    "%autoreload 2"
   ]
  },
  {
   "cell_type": "code",
   "execution_count": 2,
   "id": "flush-citizen",
   "metadata": {},
   "outputs": [],
   "source": [
    "import numpy as np\n",
    "import scipy\n",
    "import cv2\n",
    "import matplotlib.pyplot as plt"
   ]
  },
  {
   "cell_type": "code",
   "execution_count": 9,
   "id": "martial-robert",
   "metadata": {},
   "outputs": [],
   "source": [
    "from srn import srn\n",
    "handpose = srn.handpose"
   ]
  },
  {
   "cell_type": "code",
   "execution_count": 4,
   "id": "efficient-appearance",
   "metadata": {},
   "outputs": [],
   "source": [
    "ESSAI = './dataset/gesture_1/finger_1/subject_1/essai_1/'"
   ]
  },
  {
   "cell_type": "code",
   "execution_count": 5,
   "id": "personalized-domain",
   "metadata": {},
   "outputs": [],
   "source": [
    "params = 615.866, 615.866, 316.584, 228.38\n",
    "fx, fy, cx, cy = params"
   ]
  },
  {
   "cell_type": "code",
   "execution_count": 48,
   "id": "useful-negotiation",
   "metadata": {},
   "outputs": [
    {
     "data": {
      "text/plain": [
       "((95, 22, 2), (95, 22, 3))"
      ]
     },
     "execution_count": 48,
     "metadata": {},
     "output_type": "execute_result"
    }
   ],
   "source": [
    "true_I = np.loadtxt(f'{ESSAI}/skeletons_image.txt', dtype=np.float16)\n",
    "true_W = np.loadtxt(f'{ESSAI}/skeletons_world.txt', dtype=np.float16)\n",
    "\n",
    "true_I = true_I.reshape((-1, 22, 2))\n",
    "# true_I = np.delete(I, 1, 1) # 3, 4\n",
    "\n",
    "true_W = true_W.reshape((-1, 22, 3))\n",
    "# true_W = np.delete(W, 1, 1) # 4, 5, 6\n",
    "\n",
    "true_I.shape, true_W.shape"
   ]
  },
  {
   "cell_type": "code",
   "execution_count": 7,
   "id": "ignored-filing",
   "metadata": {},
   "outputs": [],
   "source": [
    "frame = 0\n",
    "d = cv2.imread(ESSAI + f'/{frame}_depth.png', cv2.IMREAD_ANYDEPTH)"
   ]
  },
  {
   "cell_type": "code",
   "execution_count": 10,
   "id": "adjacent-requirement",
   "metadata": {},
   "outputs": [],
   "source": [
    "world, img = handpose.run(ESSAI)"
   ]
  },
  {
   "cell_type": "code",
   "execution_count": 16,
   "id": "liked-respect",
   "metadata": {},
   "outputs": [
    {
     "data": {
      "text/plain": [
       "array([[[-44.02487 ,  79.43333 , 633.27106 ],\n",
       "        [-31.983786,  82.72307 , 636.5479  ],\n",
       "        [-13.239857,  18.833956, 608.4881  ],\n",
       "        ...,\n",
       "        [-64.96221 ,  23.863213, 572.8618  ],\n",
       "        [-58.915855,  28.159128, 563.31366 ],\n",
       "        [-48.83671 ,  37.121063, 565.52716 ]],\n",
       "\n",
       "       [[-44.902775,  78.5742  , 630.8891  ],\n",
       "        [-33.74222 ,  81.856995, 634.32324 ],\n",
       "        [-14.12681 ,  19.447733, 607.2427  ],\n",
       "        ...,\n",
       "        [-64.92628 ,  19.521172, 570.45386 ],\n",
       "        [-61.191868,  19.743114, 555.8712  ],\n",
       "        [-52.551277,  27.633883, 552.04297 ]],\n",
       "\n",
       "       [[-45.808506,  75.24219 , 628.06885 ],\n",
       "        [-34.669163,  79.144775, 630.7123  ],\n",
       "        [-12.65472 ,  18.025774, 602.3096  ],\n",
       "        ...,\n",
       "        [-63.78095 ,  19.822386, 570.5254  ],\n",
       "        [-60.181652,  22.02808 , 559.65106 ],\n",
       "        [-52.67655 ,  29.407507, 559.47534 ]],\n",
       "\n",
       "       ...,\n",
       "\n",
       "       [[-52.199684, 105.715485, 623.15533 ],\n",
       "        [-42.140026, 110.79467 , 623.296   ],\n",
       "        [-25.76406 ,  55.40327 , 601.07385 ],\n",
       "        ...,\n",
       "        [-74.467705,  49.705116, 580.48035 ],\n",
       "        [-70.39873 ,  52.810223, 572.1346  ],\n",
       "        [-62.477352,  60.085403, 571.01776 ]],\n",
       "\n",
       "       [[-53.05717 , 105.97984 , 624.5688  ],\n",
       "        [-43.019283, 111.39137 , 624.4132  ],\n",
       "        [-26.586998,  55.281796, 600.42926 ],\n",
       "        ...,\n",
       "        [-76.25536 ,  50.810944, 581.7224  ],\n",
       "        [-72.06208 ,  55.144836, 574.8916  ],\n",
       "        [-63.516567,  62.662262, 575.3317  ]],\n",
       "\n",
       "       [[-52.64067 , 104.98618 , 622.6087  ],\n",
       "        [-42.231335, 109.37705 , 623.5073  ],\n",
       "        [-26.887157,  52.310165, 603.2573  ],\n",
       "        ...,\n",
       "        [-75.37365 ,  50.001877, 577.85126 ],\n",
       "        [-71.131325,  52.91995 , 568.4411  ],\n",
       "        [-63.744003,  59.656975, 566.39197 ]]], dtype=float32)"
      ]
     },
     "execution_count": 16,
     "metadata": {},
     "output_type": "execute_result"
    }
   ],
   "source": [
    "world"
   ]
  },
  {
   "cell_type": "code",
   "execution_count": 12,
   "id": "pressing-management",
   "metadata": {},
   "outputs": [
    {
     "data": {
      "text/plain": [
       "array([[[273.76913, 305.63016, 633.27106],\n",
       "        [285.6394 , 308.41534, 636.5479 ],\n",
       "        [303.18362, 247.44232, 608.4881 ],\n",
       "        ...,\n",
       "        [246.74515, 254.0346 , 572.8618 ],\n",
       "        [252.17181, 259.16614, 563.31366],\n",
       "        [263.40024, 268.8053 , 565.52716]],\n",
       "\n",
       "       [[272.7505 , 305.08316, 630.8891 ],\n",
       "        [283.8236 , 307.85516, 634.32324],\n",
       "        [302.2566 , 248.10391, 607.2427 ],\n",
       "        ...,\n",
       "        [246.48915, 249.4552 , 570.45386],\n",
       "        [248.78775, 250.25398, 555.8712 ],\n",
       "        [257.95715, 259.2087 , 552.04297]],\n",
       "\n",
       "       [[271.66553, 302.1603 , 628.06885],\n",
       "        [282.73093, 305.6618 , 630.7123 ],\n",
       "        [303.64447, 246.8115 , 602.3096 ],\n",
       "        ...,\n",
       "        [247.73428, 249.77771, 570.5254 ],\n",
       "        [250.35733, 252.62073, 559.65106],\n",
       "        [258.59808, 260.75156, 559.47534]],\n",
       "\n",
       "       ...,\n",
       "\n",
       "       [[264.99493, 332.8589 , 623.15533],\n",
       "        [274.94632, 337.85394, 623.296  ],\n",
       "        [290.1859 , 285.14673, 601.07385],\n",
       "        ...,\n",
       "        [237.57681, 281.1151 , 580.48035],\n",
       "        [240.80432, 285.2268 , 572.1346 ],\n",
       "        [249.19963, 293.18457, 571.01776]],\n",
       "\n",
       "       [[264.26614, 332.88312, 624.5688 ],\n",
       "        [274.1536 , 338.2466 , 624.4132 ],\n",
       "        [289.31348, 285.08307, 600.42926],\n",
       "        ...,\n",
       "        [235.85292, 282.17325, 581.7224 ],\n",
       "        [239.38583, 287.4552 , 574.8916 ],\n",
       "        [248.59247, 295.45706, 575.3317 ]],\n",
       "\n",
       "       [[264.51343, 332.22922, 622.6087 ],\n",
       "        [274.87024, 336.4166 , 623.5073 ],\n",
       "        [289.1349 , 281.7835 , 603.2573 ],\n",
       "        ...,\n",
       "        [236.2518 , 281.67133, 577.85126],\n",
       "        [239.51822, 285.71506, 568.4411 ],\n",
       "        [247.272  , 293.248  , 566.39197]]], dtype=float32)"
      ]
     },
     "execution_count": 12,
     "metadata": {},
     "output_type": "execute_result"
    }
   ],
   "source": [
    "img"
   ]
  },
  {
   "cell_type": "markdown",
   "id": "adequate-parts",
   "metadata": {},
   "source": [
    "## Note 1"
   ]
  },
  {
   "cell_type": "markdown",
   "id": "developing-profit",
   "metadata": {},
   "source": [
    "If you add cx, cy to world coordinates, you get same image coodinates"
   ]
  },
  {
   "cell_type": "code",
   "execution_count": 19,
   "id": "emotional-standard",
   "metadata": {},
   "outputs": [
    {
     "data": {
      "text/plain": [
       "array([[272.55914, 307.81332, 633.27106],\n",
       "       [284.60022, 311.1031 , 636.5479 ],\n",
       "       [303.34415, 247.21396, 608.4881 ],\n",
       "       [284.15158, 248.79288, 604.32635],\n",
       "       [268.1552 , 251.72897, 602.41235],\n",
       "       [251.05995, 256.44714, 600.4888 ],\n",
       "       [294.3551 , 291.10193, 585.39923],\n",
       "       [302.32925, 278.9815 , 553.4321 ],\n",
       "       [312.26816, 270.8068 , 529.8667 ],\n",
       "       [304.20663, 217.42207, 575.2278 ],\n",
       "       [304.76578, 201.69807, 551.82904],\n",
       "       [308.26456, 194.12634, 538.1719 ],\n",
       "       [279.00964, 231.84659, 561.8853 ],\n",
       "       [279.18835, 251.35594, 563.07935],\n",
       "       [279.67932, 268.11847, 574.0481 ],\n",
       "       [259.7714 , 237.99396, 564.09937],\n",
       "       [265.6098 , 249.7295 , 559.4187 ],\n",
       "       [274.25372, 260.24457, 564.2487 ],\n",
       "       [251.6218 , 252.24323, 572.8618 ],\n",
       "       [257.66815, 256.53912, 563.31366],\n",
       "       [267.7473 , 265.50107, 565.52716]], dtype=float32)"
      ]
     },
     "execution_count": 19,
     "metadata": {},
     "output_type": "execute_result"
    }
   ],
   "source": [
    "t = world[0].copy()\n",
    "t[:,0] = t[:,0] + cx\n",
    "t[:,1] = t[:,1] + cy\n",
    "t"
   ]
  },
  {
   "cell_type": "code",
   "execution_count": 20,
   "id": "civil-orientation",
   "metadata": {},
   "outputs": [
    {
     "data": {
      "text/plain": [
       "array([[273.76913, 305.63016, 633.27106],\n",
       "       [285.6394 , 308.41534, 636.5479 ],\n",
       "       [303.18362, 247.44232, 608.4881 ],\n",
       "       [283.5323 , 249.18266, 604.32635],\n",
       "       [267.07367, 252.25043, 602.41235],\n",
       "       [249.38202, 257.1659 , 600.4888 ],\n",
       "       [293.1982 , 294.36624, 585.39923],\n",
       "       [300.72113, 284.68997, 553.4321 ],\n",
       "       [311.5677 , 277.6928 , 529.8667 ],\n",
       "       [303.3322 , 216.64792, 575.2278 ],\n",
       "       [303.39432, 198.60178, 551.82904],\n",
       "       [307.0635 , 189.18126, 538.1719 ],\n",
       "       [275.39984, 232.17963, 561.8853 ],\n",
       "       [275.68265, 253.50986, 563.07935],\n",
       "       [276.9909 , 271.0133 , 574.0481 ],\n",
       "       [254.55777, 238.87622, 564.09937],\n",
       "       [260.4663 , 251.88374, 559.4187 ],\n",
       "       [270.38138, 263.15952, 564.2487 ],\n",
       "       [246.74515, 254.0346 , 572.8618 ],\n",
       "       [252.17181, 259.16614, 563.31366],\n",
       "       [263.40024, 268.8053 , 565.52716]], dtype=float32)"
      ]
     },
     "execution_count": 20,
     "metadata": {},
     "output_type": "execute_result"
    }
   ],
   "source": [
    "img[0]"
   ]
  },
  {
   "cell_type": "code",
   "execution_count": 22,
   "id": "jewish-prevention",
   "metadata": {},
   "outputs": [
    {
     "data": {
      "text/plain": [
       "1.6176791"
      ]
     },
     "execution_count": 22,
     "metadata": {},
     "output_type": "execute_result"
    }
   ],
   "source": [
    "np.average(np.abs(t - img[0])) # Average error in pixels"
   ]
  },
  {
   "cell_type": "markdown",
   "id": "superb-variable",
   "metadata": {},
   "source": [
    "## Note 2\n",
    "x axis is inverted in their outputs"
   ]
  },
  {
   "cell_type": "code",
   "execution_count": 23,
   "id": "extraordinary-cowboy",
   "metadata": {},
   "outputs": [
    {
     "data": {
      "image/png": "[encoded data removed]",
      "text/plain": [
       "<Figure size 432x288 with 1 Axes>"
      ]
     },
     "metadata": {
      "needs_background": "light"
     },
     "output_type": "display_data"
    }
   ],
   "source": [
    "plt.imshow(d)\n",
    "for x, y, z in img[0]:\n",
    "    c = plt.Circle((x, y), color='red')\n",
    "    plt.gca().add_patch(c)\n",
    "plt.show()"
   ]
  },
  {
   "cell_type": "markdown",
   "id": "artistic-thriller",
   "metadata": {},
   "source": [
    "Mirror it on x = 320, by doing new_x = 640 - x"
   ]
  },
  {
   "cell_type": "code",
   "execution_count": 24,
   "id": "meaningful-vietnamese",
   "metadata": {},
   "outputs": [
    {
     "data": {
      "image/png": "[encoded data removed]",
      "text/plain": [
       "<Figure size 432x288 with 1 Axes>"
      ]
     },
     "metadata": {
      "needs_background": "light"
     },
     "output_type": "display_data"
    }
   ],
   "source": [
    "plt.imshow(d)\n",
    "for x, y, z in img[0]:\n",
    "    c = plt.Circle((640 - x, y), color='red')\n",
    "    plt.gca().add_patch(c)\n",
    "plt.show()"
   ]
  },
  {
   "cell_type": "markdown",
   "id": "early-expense",
   "metadata": {},
   "source": [
    "This output is better than the code before with center and cube modifications."
   ]
  },
  {
   "cell_type": "code",
   "execution_count": 31,
   "id": "short-coverage",
   "metadata": {},
   "outputs": [
    {
     "data": {
      "text/plain": [
       "array([[366.23087, 305.63016, 633.27106],\n",
       "       [354.3606 , 308.41534, 636.5479 ],\n",
       "       [336.81638, 247.44232, 608.4881 ],\n",
       "       [356.4677 , 249.18266, 604.32635],\n",
       "       [372.92633, 252.25043, 602.41235],\n",
       "       [390.61798, 257.1659 , 600.4888 ],\n",
       "       [346.8018 , 294.36624, 585.39923],\n",
       "       [339.27887, 284.68997, 553.4321 ],\n",
       "       [328.4323 , 277.6928 , 529.8667 ],\n",
       "       [336.6678 , 216.64792, 575.2278 ],\n",
       "       [336.60568, 198.60178, 551.82904],\n",
       "       [332.9365 , 189.18126, 538.1719 ],\n",
       "       [364.60016, 232.17963, 561.8853 ],\n",
       "       [364.31735, 253.50986, 563.07935],\n",
       "       [363.0091 , 271.0133 , 574.0481 ],\n",
       "       [385.44223, 238.87622, 564.09937],\n",
       "       [379.5337 , 251.88374, 559.4187 ],\n",
       "       [369.61862, 263.15952, 564.2487 ],\n",
       "       [393.25485, 254.0346 , 572.8618 ],\n",
       "       [387.8282 , 259.16614, 563.31366],\n",
       "       [376.59976, 268.8053 , 565.52716]], dtype=float32)"
      ]
     },
     "execution_count": 31,
     "metadata": {},
     "output_type": "execute_result"
    }
   ],
   "source": [
    "predicted_uvd = img[0].copy() # predicted uvd of frame 0 of essai 1\n",
    "predicted_uvd[:,0] = 640 - predicted_uvd[:,0] # mirror it\n",
    "predicted_uvd # inverted"
   ]
  },
  {
   "cell_type": "code",
   "execution_count": 34,
   "id": "cooked-hammer",
   "metadata": {},
   "outputs": [
    {
     "data": {
      "text/plain": [
       "array([[367.8, 319.8],\n",
       "       [355.8, 299.5],\n",
       "       [345.5, 286. ],\n",
       "       [334.8, 268.8],\n",
       "       [336.5, 249.4],\n",
       "       [335. , 217.1],\n",
       "       [335.5, 208.8],\n",
       "       [335.5, 198. ],\n",
       "       [354.5, 246.9],\n",
       "       [353.5, 221. ],\n",
       "       [357.5, 236.5],\n",
       "       [359.8, 253.1],\n",
       "       [371. , 246. ],\n",
       "       [376.2, 232.4],\n",
       "       [376.8, 250. ],\n",
       "       [374.2, 262.8],\n",
       "       [390.2, 249.4],\n",
       "       [391.8, 252.1],\n",
       "       [392.8, 266.8],\n",
       "       [390. , 275. ]], dtype=float16)"
      ]
     },
     "execution_count": 34,
     "metadata": {},
     "output_type": "execute_result"
    }
   ],
   "source": [
    "true_uvd = true_I[0].copy() # actual uvd of frame 0 of essai 1\n",
    "true_uvd"
   ]
  }
 ],
 "metadata": {
  "kernelspec": {
   "display_name": "Python 3",
   "language": "python",
   "name": "python3"
  },
  "language_info": {
   "codemirror_mode": {
    "name": "ipython",
    "version": 3
   },
   "file_extension": ".py",
   "mimetype": "text/x-python",
   "name": "python",
   "nbconvert_exporter": "python",
   "pygments_lexer": "ipython3",
   "version": "3.8.5"
  }
 },
 "nbformat": 4,
 "nbformat_minor": 5
}
